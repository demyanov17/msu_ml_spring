{
 "cells": [
  {
   "cell_type": "markdown",
   "metadata": {
    "id": "Qx_tTjl7psbu"
   },
   "source": [
    "# Машинное обучение, ВМК МГУ\n",
    "\n",
    "# Практическое задание 3. EM-алгоритм\n",
    "\n",
    "## Общая информация\n",
    "Дата выдачи: 04.04.2022\n",
    "\n",
    "Мягкий дедлайн: 18.04.2021 23:59 MSK\n",
    "\n",
    "Жёсткий дедлайн: 25.04.2021 23:59 MSK\n",
    "\n",
    "## Оценивание и штрафы\n",
    "Каждая из задач имеет определенную «стоимость» (указана в скобках около задачи). **Максимальная оценка за работу  — 10 баллов + 9 бонусов.**\n",
    "\n",
    "Сдавать задание после указанного жёсткого срока сдачи нельзя. При выставлении неполного балла за задание в связи с наличием ошибок на усмотрение проверяющего предусмотрена возможность исправить работу на указанных в ответном письме условиях.\n",
    "\n",
    "Задание выполняется самостоятельно. «Похожие» решения считаются плагиатом и все задействованные студенты (в том числе те, у кого списали) не могут получить за него больше 0 баллов (подробнее о плагиате см. на странице курса). Если вы нашли решение какого-то из заданий (или его часть) в открытом источнике, необходимо указать ссылку на этот источник в отдельном блоке в конце вашей работы (скорее всего вы будете не единственным, кто это нашел, поэтому чтобы исключить подозрение в плагиате, необходима ссылка на источник).\n",
    "\n",
    "Неэффективная реализация кода может негативно отразиться на оценке.\n",
    "\n",
    "## Формат сдачи !!ВАЖНО!!!\n",
    "Задания сдаются через систему anytask. Посылка должна содержать:\n",
    "* Ноутбук homework-practice-09-em-Username.ipynb\n",
    "* Модули preprocessing.py, metrics.py, models.py, содержащие написанный вами код\n",
    "* **Ссылки на посылки** в Яндекс.Контест для всех функций и классов, которые вы реализовали\n",
    "\n",
    "Ссылка на Яндекс.Контест: https://contest.yandex.ru/contest/35552/\n",
    "\n",
    "Username — ваша фамилия и имя на латинице именно в таком порядке"
   ]
  },
  {
   "cell_type": "markdown",
   "metadata": {
    "id": "Z4pX8DZZpsby"
   },
   "source": [
    "<p style=\"color:#de3815;font-size:25px;\">\n",
    "Напоминание об оформлении и выполнении ноутбука\n",
    "</p>"
   ]
  },
  {
   "cell_type": "markdown",
   "metadata": {
    "id": "7N7NlOCjpsbz"
   },
   "source": [
    "* Все строчки должны быть выполнены. Нужно, чтобы output команды можно было увидеть, не запуская ячейки (кроме редких случаев, когда необходимо намеренно скрыть ненужный output, про такие случаи желательно писать пояснения в тексте). **В противном случае -1 балл**\n",
    "* При оформлении ДЗ нужно пользоваться данным файлом в качестве шаблона. Не нужно удалять и видоизменять написанный код и текст, если явно не указана такая возможность. **В противном случае -1 балл**\n",
    "* В anytask обязательно нужно прикреплять отдельно файл с расширением ipynb (не в архиве, а именно отдельно). Если необходимо отправить еще какие-то файлы, то вынесите их в отдельный архив (если файлов много) и пришлите. **В противном случае -0.5 балла**\n",
    "---\n",
    "* Пишите, пожалуйста, выводы и ответы на вопросы в текстовых ячейках/при помощи print в коде. При их отсутствии мы не можем понять, сделали ли вы задание и понимаете, что происходит, и **поэтому будем снижать баллы**\n",
    "* Если алгоритм не сказано реализовывать явно, его всегда можно импортировать из библиотеки.\n",
    "---\n",
    "* Про графики. _Штрафы будут применяться к каждому результату команды отображения графика (plt.show() и др. аналогичные). Исключением являются графики, генерируемые функциями каких-либо сторонних библиотек, если их нельзя кастомизировать_\n",
    "\n",
    "    * должно быть название (plt.title) графика; **В противном случае &ndash; -0.05 балла**\n",
    "    * на графиках должны быть подписаны оси (plt.xlabel, plt.ylabel); **В противном случае &ndash; -0.025 балла за каждую ось**\n",
    "    * должны быть подписаны единицы измерения (если это возможно); **В противном случае &ndash; -0.025 балла за каждую ось**\n",
    "    * все названия должны быть понятны любому человеку, знакомому с терминологией, без заглядывания в код; **В противном случае &ndash; -0.05 балла**\n",
    "    * подписи тиков на осях не должны сливаться как на одной оси, так и между ними; **В противном случае &ndash; -0.025 балла за каждую ось**\n",
    "    * если изображено несколько сущностей на одном холсте (например несколько функций), то необходима поясняющая легенда (plt.legend); **В противном случае &ndash; -0.05 балла**\n",
    "    * все линии на графиках должны быть чётко видны (нет похожих цветов или цветов, сливающихся с фоном); **В противном случае &ndash; -0.05 балла**\n",
    "    * если отображена величина, имеющая очевидный диапазон значений (например, проценты могут быть от 0 до 100), то желательно масштабировать ось на весь диапазон значений (исключением является случай, когда вам необходимо показать малое отличие, которое незаметно в таких масштабах);\n",
    "    * графики должны быть не супер-микро и не супер-макро по размерам, так, чтобы можно было увидеть все, что нужно.\n",
    "    * при необходимости улучшения наглядности графиков, можно пользоваться логарифмической шкалой по осям x/y.\n",
    "    \n",
    "    \n",
    "### А также..\n",
    "\n",
    "* Для удобства поиска вопросов, на которые от вас просят ответа, мы пометили их знаком **(?)**\n",
    "* Знак **(!)** означает, что выполнение замечания необходимо для **возможности получения полного балла**\n",
    "* Даем до +1 балла за выдающиеся успехи по субъективному мнению проверяющих. Этот **бонус** не апеллируется"
   ]
  },
  {
   "cell_type": "markdown",
   "metadata": {
    "id": "0x_d1w0spsb1"
   },
   "source": [
    "# Generative model of Labels, Abilities, and Difficulties (GLAD)\n",
    "\n",
    "В [семинаре 15](https://github.com/esokolov/ml-course-hse/blob/master/2020-spring/seminars/sem15-em.pdf) мы рассмотрели задачу восстановления истинной разметки по меткам от экспертов (которым мы не можем доверять в полной мере, более того, их предсказания могут расходиться).\n",
    "\n",
    "Рассмотрим следующую вероятностную модель:\n",
    "\n",
    "$$ p(L, Z | \\alpha, \\beta) = \\prod_{i=1}^{n} \\prod_{j=1}^m \\sigma(\\alpha_j\\beta_i)^{[l_{ij}=z_i]}\\sigma(-\\alpha_j\\beta_i)^{1-[l_{ij}=z_i]} p(z_j)$$\n",
    "\n",
    "где $l_{ij} -$ ответ $j$-го эксперта на задачу $i$, $z_j -$ истинная разметка, $\\alpha_j, \\beta_i-$ уровень экспертизы и сложность задачи соответственно. Для более подробного описания модели можно прочитать материалы семинара, а также [оригинальную статью](http://papers.nips.cc/paper/3644-whose-vote-should-count-more-optimal-integration-of-labels-from-labelers-of-unknown-expertise.pdf). Априорное распределение положим равномерным: $p(z_i) = 0.5$."
   ]
  },
  {
   "cell_type": "code",
   "execution_count": 1,
   "metadata": {
    "id": "3eBuxebWpsb2"
   },
   "outputs": [],
   "source": [
    "import numpy as np\n",
    "seed = 0xDEADF00D\n",
    "np.random.seed(seed)"
   ]
  },
  {
   "cell_type": "code",
   "execution_count": null,
   "metadata": {
    "colab": {
     "base_uri": "https://localhost:8080/"
    },
    "id": "eE8Xhu6tpsb3",
    "outputId": "bff1a819-32db-42c9-becb-7c40111b1b03"
   },
   "outputs": [
    {
     "name": "stdout",
     "output_type": "stream",
     "text": [
      "Число задач (n_problems): 2000, число экспертов (n_experts): 20\n"
     ]
    }
   ],
   "source": [
    "L = np.load('L.npy')\n",
    "n, m = L.shape\n",
    "print(f\"Число задач (n_problems): {n}, число экспертов (n_experts): {m}\")"
   ]
  },
  {
   "cell_type": "markdown",
   "metadata": {
    "id": "sxEN916Spsb4"
   },
   "source": [
    "---"
   ]
  },
  {
   "cell_type": "markdown",
   "metadata": {
    "id": "H7rUs5Nrpsb5"
   },
   "source": [
    "**Задание 1. (2 балла)** Реализуйте EM-алгоритм для заданной выше модели. Вы можете воспользоваться предложенными шаблонами или написать свои. \n",
    "\n",
    "Обратите внимание, что правдоподобие моделирует не вероятность метки $l_{ij}$ принять значение 1 или 0, а вероятность того, что она равна скрытой переменной $z_i$, т.е. $p(l_{ij} = z_j|z_j, \\alpha_j, \\beta_i) \\neq p(l_{ij} = 1|\\alpha_j, \\beta_i) $. При этом заранее неизвестно, какая из скрытых переменных соответствует метке 1. Не забывайте, что параметры $\\beta_i$ должны быть неотрицательными; для этого оптимизируйте $\\log \\beta$. На M-шаге можете использовать как один шаг градиентного спуска, так и несколько: разумные результаты у вас должны получаться вне зависимости от числа итераций.\n",
    "\n",
    "**Подсказки (могут быть актуальны на все задание):**\n",
    "\n",
    "* При работе с вероятностями не забывайте о точности:\n",
    " 1. Используйте логарифмы вероятностей.\n",
    " 2. $\\log \\sigma(a)$ лучше преобразовать в $\\log \\sigma(a) = -\\log(1 + \\exp(-a)) = -\\mathrm{softplus}(-a) $\n",
    " 3. Ещё полезные функции: `scipy.special.expit`, `scipy.special.logsumexp`, `np.log1p`\n",
    "* Для отладки может быть полезно проверить градиенты, возвращаемые функциями `alpha_grad_lb` и `logbeta_grad_lb` с помощью `scipy.optimize.check_grad`.\n",
    "* Размеры возвращаемых значений, указанные в докстринге функций могут помочь вам понять, что необходимо возвращать\n",
    "* Почитайте докстринги, в них есть подсказки и ссылки на формулы из семинара\n",
    "* Если у вас вылезают где-то nan/inf -- попробуйте урезать значения снизу. Например, у вас есть место, где берется log(theta) -- тут имеет смысл урезать theta = max(theta, eps), где eps какое-то маленькое число (например 1e-8)"
   ]
  },
  {
   "cell_type": "markdown",
   "metadata": {
    "id": "o--D_W5Jpsb6"
   },
   "source": [
    "---"
   ]
  },
  {
   "cell_type": "code",
   "execution_count": null,
   "metadata": {
    "id": "jTejwXf-psb7"
   },
   "outputs": [],
   "source": [
    "def softplus(x):\n",
    "    '''stable version of log(1 + exp(x))'''\n",
    "    c = (x > 20) * 1.\n",
    "    return np.log1p(np.exp(x * (1-c)) * (1-c)) + x * c"
   ]
  },
  {
   "cell_type": "code",
   "execution_count": null,
   "metadata": {
    "id": "aJuXECf6psb7"
   },
   "outputs": [],
   "source": [
    "from scipy.special import logsumexp, expit\n",
    "\n",
    "def posterior(alpha, beta, L):\n",
    "    \"\"\" Posterior over true labels z p(z|l, \\alpha, \\beta)\n",
    "    Args:\n",
    "        alpha: ndarray of shape (n_experts).\n",
    "        beta: ndarray of shape (n_problems).\n",
    "        L: ndarray of shape (n_problems, n_experts).\n",
    "    Returns:\n",
    "        ndarray of shape (2, n_problems)\n",
    "        (2 -- for z = 0 and for z = 1, n_problems -- for each problem in data)\n",
    "    Tip:\n",
    "        You may use function log_likelihood here\n",
    "        See page 7 of seminar, the last formula for details\n",
    "    \"\"\"\n",
    "    zeros = log_likelihood(alpha, beta, L, np.zeros(beta.shape[0]))\n",
    "    ones = log_likelihood(alpha, beta, L, np.ones(beta.shape[0]))\n",
    "    zn = np.exp(zeros) + np.exp(ones)\n",
    "    zn = np.maximum(zn, 1e-50)\n",
    "    st = np.exp(np.vstack((zeros, ones)))\n",
    "    return st/zn\n",
    "\n",
    "\n",
    "def log_likelihood(alpha, beta, L, z):\n",
    "    \"\"\" p(l=z|z, \\alpha, \\beta)\n",
    "    Args:\n",
    "        alpha: ndarray of shape (n_experts).\n",
    "        beta: ndarray of shape (n_problems).\n",
    "        L: ndarray of shape (n_problems, n_experts).\n",
    "        z: ndarray of shape (n_problems).\n",
    "    Returns:\n",
    "        ndarray of shape (n_problems,)\n",
    "    Tips:\n",
    "        See page 7 of seminar, the second formula for details\n",
    "    \"\"\"\n",
    "    return np.log(1/2) + np.sum(np.equal(L, z.reshape(-1, 1)) * (-softplus(-beta.reshape(-1, 1) @ alpha.reshape(1,-1))) \n",
    "               - ~np.equal(L, z.reshape(-1, 1)) * softplus(beta.reshape(-1, 1) @ alpha.reshape(1,-1)), axis=1)\n",
    "\n",
    "\n",
    "def alpha_grad_lb(alpha, beta, L, q):\n",
    "    \"\"\" Gradient of lower bound wrt alpha\n",
    "    Args:\n",
    "        alpha: ndarray of shape (n_experts).\n",
    "        beta: ndarray of shape (n_problems).\n",
    "        L: ndarray of shape (n_problems, n_experts).\n",
    "        q: ndarray of shape (2, n_problems).\n",
    "    Returns:\n",
    "        ndarray of shape (n_experts,)\n",
    "    Tips:\n",
    "        See pages 8-9 of seminar for details\n",
    "    \"\"\"\n",
    "    z_0, z_1 = np.zeros(beta.shape[0]), np.ones(beta.shape[0])\n",
    "    T0 = np.equal(L, z_0.reshape(-1, 1)) * (expit(-beta.reshape(-1, 1) @ alpha.reshape(1,-1)))- ~np.equal(L, z_0.reshape(-1, 1)) * expit(beta.reshape(-1, 1) @ alpha.reshape(1,-1))\n",
    "    T1 = np.equal(L, z_1.reshape(-1, 1)) * (expit(-beta.reshape(-1, 1) @ alpha.reshape(1,-1))) - ~np.equal(L, z_1.reshape(-1, 1)) * expit(beta.reshape(-1, 1) @ alpha.reshape(1,-1))\n",
    "    q = np.maximum(q, 1e-50)\n",
    "    n1, n2 = (q[0]*beta).reshape(-1, 1) * T0, (q[1]*beta).reshape(-1, 1) * T1\n",
    "    return np.sum(n1+n2, axis=0)\n",
    "\n",
    "\n",
    "def logbeta_grad_lb(alpha, beta, L, q):\n",
    "    \"\"\" Gradient of lower bound wrt alpha\n",
    "    Args:\n",
    "        alpha: ndarray of shape (n_experts).\n",
    "        beta: ndarray of shape (n_problems).\n",
    "        L: ndarray of shape (n_problems, n_experts).\n",
    "        q: ndarray of shape (2, n_problems).\n",
    "    Returns:\n",
    "        ndarray of shape (n_problems,)\n",
    "    Tips:\n",
    "        See pages 8-9 of seminar for details\n",
    "    \"\"\"\n",
    "    z_0, z_1 = np.zeros(beta.shape[0]), np.ones(beta.shape[0])\n",
    "    T0 = np.equal(L, z_0.reshape(-1, 1)) * (expit(-beta.reshape(-1, 1) @ alpha.reshape(1,-1)))- ~np.equal(L, z_0.reshape(-1, 1)) * expit(beta.reshape(-1, 1) @ alpha.reshape(1,-1))\n",
    "    T1 = np.equal(L, z_1.reshape(-1, 1)) * (expit(-beta.reshape(-1, 1) @ alpha.reshape(1,-1))) - ~np.equal(L, z_1.reshape(-1, 1)) * expit(beta.reshape(-1, 1) @ alpha.reshape(1,-1))\n",
    "    q = np.maximum(q, 1e-50)\n",
    "    n1, n2 = q[0].reshape(-1,1) * alpha.reshape(1,-1) * T0, q[1].reshape(-1,1) * alpha.reshape(1,-1) * T1\n",
    "    return beta * np.sum(n1+n2, axis=1)\n",
    "\n",
    "\n",
    "def lower_bound(alpha, beta, L, q):\n",
    "    \"\"\" Lower bound\n",
    "    Args:\n",
    "        alpha: ndarray of shape (n_experts).\n",
    "        beta: ndarray of shape (n_problems).\n",
    "        L: ndarray of shape (n_problems, n_experts).\n",
    "        q: ndarray of shape (2, n_problems).\n",
    "    Returns:\n",
    "        single value, number\n",
    "    Tips:\n",
    "        You may use function log_likelihood here\n",
    "        See page 8 of seminar, the fourth formula for details\n",
    "    \"\"\"\n",
    "    z_0, z_1 = np.zeros(beta.shape[0]), np.ones(beta.shape[0])\n",
    "    t_0 = np.sum(np.equal(L, z_0.reshape(-1, 1)) * (-softplus(-beta.reshape(-1, 1) @ alpha.reshape(1,-1))) \n",
    "               - ~np.equal(L, z_0.reshape(-1, 1)) * softplus(beta.reshape(-1, 1) @ alpha.reshape(1,-1)), axis=1)\n",
    "    t_1 = np.sum(np.equal(L, z_1.reshape(-1, 1)) * (-softplus(-beta.reshape(-1, 1) @ alpha.reshape(1,-1))) \n",
    "               - ~np.equal(L, z_1.reshape(-1, 1)) * softplus(beta.reshape(-1, 1) @ alpha.reshape(1,-1)), axis=1)\n",
    "    t_stack = np.vstack((t_0.reshape(1, -1), t_1.reshape(1, -1)))\n",
    "    return np.sum(t_stack * q)"
   ]
  },
  {
   "cell_type": "markdown",
   "metadata": {
    "id": "sfuKKFe_psb9"
   },
   "source": [
    "**Подсказка:**\n",
    "* При проверке alpha значения, выдываемые функцией `check_grad` должны быть не более 0.01. Иначе у вас где-то ошибка\n",
    "* При проверке logbeta значения, выдываемые функцией `check_grad` должны быть не более 0.05. Иначе у вас где-то ошибка"
   ]
  },
  {
   "cell_type": "code",
   "execution_count": null,
   "metadata": {
    "colab": {
     "base_uri": "https://localhost:8080/"
    },
    "id": "uKq-Lss-psb-",
    "outputId": "b93e0c7d-c8e9-4d52-ac57-e8fa5f80e03d",
    "scrolled": true
   },
   "outputs": [
    {
     "data": {
      "text/plain": [
       "0.0008977563295519804"
      ]
     },
     "execution_count": 5,
     "metadata": {},
     "output_type": "execute_result"
    }
   ],
   "source": [
    "from scipy.optimize import check_grad\n",
    "from scipy.special import expit\n",
    "\n",
    "alpha, logbeta = np.random.randn(m), np.random.randn(n)\n",
    "beta = np.exp(logbeta)\n",
    "q = np.ones((2, len(beta))) * 0.5\n",
    "\n",
    "check_grad(\n",
    "    lambda a: lower_bound(a, beta, L, q),\n",
    "    lambda a: alpha_grad_lb(a, beta, L, q),\n",
    "    alpha\n",
    ")"
   ]
  },
  {
   "cell_type": "code",
   "execution_count": null,
   "metadata": {
    "colab": {
     "base_uri": "https://localhost:8080/"
    },
    "id": "5ouPvh1opsb-",
    "outputId": "ade29dad-4061-41ef-b230-577a636b3f36"
   },
   "outputs": [
    {
     "data": {
      "text/plain": [
       "0.009711572011865737"
      ]
     },
     "execution_count": 6,
     "metadata": {},
     "output_type": "execute_result"
    }
   ],
   "source": [
    "check_grad(\n",
    "    lambda lb: lower_bound(alpha, np.exp(lb), L, q),\n",
    "    lambda lb: logbeta_grad_lb(alpha, np.exp(lb), L, q),\n",
    "    logbeta\n",
    ")"
   ]
  },
  {
   "cell_type": "code",
   "execution_count": null,
   "metadata": {
    "id": "HwUFchv_psb_"
   },
   "outputs": [],
   "source": [
    "def em(L, n_steps=1000, lr=1e-3):\n",
    "    # initialize parameters\n",
    "    alpha, logbeta = np.random.randn(m), np.random.randn(n)\n",
    "    q = np.ones((2, len(beta))) * 0.5\n",
    "\n",
    "    for step in range(n_steps):\n",
    "        # E-step\n",
    "        q = posterior(alpha, np.exp(logbeta), L)\n",
    "        # M-step\n",
    "        alpha_new = alpha + lr * alpha_grad_lb(alpha, np.exp(logbeta), L, q)\n",
    "        logbeta_new = logbeta + lr * logbeta_grad_lb(alpha, np.exp(logbeta), L, q)\n",
    "        alpha, logbeta = alpha_new, logbeta_new\n",
    "\n",
    "    return alpha, np.exp(logbeta), q"
   ]
  },
  {
   "cell_type": "code",
   "execution_count": null,
   "metadata": {
    "id": "ZyWdPvbypscA"
   },
   "outputs": [],
   "source": [
    "alpha, beta, q = em(L)"
   ]
  },
  {
   "cell_type": "markdown",
   "metadata": {
    "id": "uFqSdRt0pscB"
   },
   "source": [
    "---"
   ]
  },
  {
   "cell_type": "markdown",
   "metadata": {
    "id": "1rX5SkEQpscB"
   },
   "source": [
    "**Задание 2. (1 балл)** Загрузите настоящую разметку. Посчитайте `accuracy` разметки, полученной с помощью обычного голосования по большинству среди экспертов, и сравните его с качеством **(?)**, полученным с помощью EM-алгоритма."
   ]
  },
  {
   "cell_type": "markdown",
   "metadata": {
    "id": "8bWrSD6_pscC"
   },
   "source": [
    "**Разбалловка:**\n",
    "* **0.5 балла** -- качество голосования не менее 0.904\n",
    "* **0.5 балла** -- качестве EM не менее 0.95"
   ]
  },
  {
   "cell_type": "markdown",
   "metadata": {
    "id": "SGjhgaTtpscC"
   },
   "source": [
    "**Подсказка:**\n",
    "* Помните, что алгоритму не важно, какая метка 0, а какая 1, поэтому если получите качество <0.5, то просто поменяйте метки классов (не забудьте также поменять знак у $\\alpha$). "
   ]
  },
  {
   "cell_type": "markdown",
   "metadata": {
    "id": "-kpKbLFOpscD"
   },
   "source": [
    "---"
   ]
  },
  {
   "cell_type": "code",
   "execution_count": null,
   "metadata": {
    "colab": {
     "base_uri": "https://localhost:8080/"
    },
    "id": "caXKmNFrpscD",
    "outputId": "f2c2ed0d-a84c-4d6f-b55f-a225b75ac6d6"
   },
   "outputs": [
    {
     "name": "stdout",
     "output_type": "stream",
     "text": [
      "Качество голосования: 0.904\n",
      "Качество ЕМ-алгоритма: 0.9555\n"
     ]
    }
   ],
   "source": [
    "y = np.load('y.npy')\n",
    "# (∩ ￣ー￣)⊃ ✳✨✳✨✳✨✳\n",
    "vote_predict = np.zeros(L.shape[0])\n",
    "vote_predict[np.sum(L, axis=1) > L.shape[1] / 2] = 1\n",
    "print(\"Качество голосования:\", np.sum(y == vote_predict) / y.shape[0])\n",
    "\n",
    "y_pred_em = np.argmax(q, axis=0)\n",
    "print(\"Качество ЕМ-алгоритма:\", np.sum(y == y_pred_em) / y.shape[0])"
   ]
  },
  {
   "cell_type": "markdown",
   "metadata": {
    "id": "0FEjBuugpscE"
   },
   "source": [
    "**Ответ:** EM-алгоритм показывает качество лучше, чем простое голосование, так как он учитывает более сложные зависимости"
   ]
  },
  {
   "cell_type": "markdown",
   "metadata": {
    "id": "0uDujLb3pscE"
   },
   "source": [
    "---"
   ]
  },
  {
   "cell_type": "markdown",
   "metadata": {
    "id": "ln5_A2wcpscF"
   },
   "source": [
    "**Задание 3. (0.5 балла)** **(?)** Попробуйте проинтерпретировать полученные коэфициенты $\\alpha$. **(?)**  Есть ли в выборке эксперты, которые намеренно голосуют неверно? **(?)**  Как это можно понять по альфам? \n",
    "\n",
    "* Продемонстрируйте, что эксперты действительно чаще голосуют за неверный класс. \n",
    "* Отобразите визуализацию зависимости доли врено размеченных экспертом объектов от коэффициента $\\alpha$.\n",
    "* **(?)**  Прокомментируйте результаты и полученную зависимость."
   ]
  },
  {
   "cell_type": "markdown",
   "metadata": {
    "id": "RBMU7Ij9pscF"
   },
   "source": [
    "**Подсказки:**\n",
    "* Если вы отобразили или хотели отобразить зависимость при помощи обычного plot (график), то посмотрите повнимательнее/подумайте, почему это не очень хорошая визуализация. **Для возможности получения полного балла** правильно будет использовать тип отображения scatter plot.\n",
    "*  Также **для возможности получения полного балла** вам необходимо проинтерпретировать смысл зависимости для всех групп альф, которые вы увидите (спойлер: их должно быть 3:)"
   ]
  },
  {
   "cell_type": "markdown",
   "metadata": {
    "id": "bStOo0SKpscG"
   },
   "source": [
    "---"
   ]
  },
  {
   "cell_type": "code",
   "execution_count": null,
   "metadata": {
    "colab": {
     "base_uri": "https://localhost:8080/"
    },
    "id": "TmVRJKc_pscH",
    "outputId": "89b84222-933a-4793-ba1f-3e0700eb0555"
   },
   "outputs": [
    {
     "data": {
      "text/plain": [
       "array([ 0.64989026,  0.76446752,  4.50151314,  0.564889  ,  0.65556315,\n",
       "        4.39061412,  0.6256199 ,  4.14449405, -4.28230991,  0.67377689,\n",
       "       -4.54474019, -4.4305875 ,  4.29766642,  0.57260893,  0.66823686,\n",
       "        0.54013605,  0.67712777,  4.22722863, -4.20450694,  4.16446636])"
      ]
     },
     "execution_count": 10,
     "metadata": {},
     "output_type": "execute_result"
    }
   ],
   "source": [
    "alpha"
   ]
  },
  {
   "cell_type": "code",
   "execution_count": null,
   "metadata": {
    "id": "eSYp5Rx5uvUZ"
   },
   "outputs": [],
   "source": [
    "harmful = alpha < 0\n",
    "useful = alpha > 1\n",
    "average = (0<alpha) * (alpha<1)\n",
    "labels = harmful * 1 + average * 2 + useful * 3\n",
    "frac_true = np.sum(L == y.reshape((-1, 1)), axis=0) / n"
   ]
  },
  {
   "cell_type": "code",
   "execution_count": null,
   "metadata": {
    "colab": {
     "base_uri": "https://localhost:8080/"
    },
    "id": "X2UjjeICpscI",
    "outputId": "5901782b-30bf-4d82-cc12-251a17a83245"
   },
   "outputs": [
    {
     "name": "stdout",
     "output_type": "stream",
     "text": [
      "Доля верных ответов у вредных экспертов: [0.0905 0.0825 0.082  0.088 ]\n"
     ]
    }
   ],
   "source": [
    "frac_true = np.sum(L == y.reshape((-1, 1)), axis=0) / n\n",
    "print(\"Доля верных ответов у вредных экспертов:\", frac_true[harmful])"
   ]
  },
  {
   "cell_type": "code",
   "execution_count": null,
   "metadata": {
    "colab": {
     "base_uri": "https://localhost:8080/",
     "height": 541
    },
    "id": "9LaDcFk6pscN",
    "outputId": "f67dcb4e-c2f1-4cf2-c3a1-3cc65a1965b1"
   },
   "outputs": [
    {
     "data": {
      "image/svg+xml": [
       "<?xml version=\"1.0\" encoding=\"utf-8\" standalone=\"no\"?>\n",
       "<!DOCTYPE svg PUBLIC \"-//W3C//DTD SVG 1.1//EN\"\n",
       "  \"http://www.w3.org/Graphics/SVG/1.1/DTD/svg11.dtd\">\n",
       "<!-- Created with matplotlib (https://matplotlib.org/) -->\n",
       "<svg height=\"390.249531pt\" version=\"1.1\" viewBox=\"0 0 555.32125 390.249531\" width=\"555.32125pt\" xmlns=\"http://www.w3.org/2000/svg\" xmlns:xlink=\"http://www.w3.org/1999/xlink\">\n",
       " <defs>\n",
       "  <style type=\"text/css\">\n",
       "*{stroke-linecap:butt;stroke-linejoin:round;}\n",
       "  </style>\n",
       " </defs>\n",
       " <g id=\"figure_1\">\n",
       "  <g id=\"patch_1\">\n",
       "   <path d=\"M 0 390.249531 \n",
       "L 555.32125 390.249531 \n",
       "L 555.32125 0 \n",
       "L 0 0 \n",
       "z\n",
       "\" style=\"fill:none;\"/>\n",
       "  </g>\n",
       "  <g id=\"axes_1\">\n",
       "   <g id=\"patch_2\">\n",
       "    <path d=\"M 45.92125 350.757656 \n",
       "L 548.12125 350.757656 \n",
       "L 548.12125 24.597656 \n",
       "L 45.92125 24.597656 \n",
       "z\n",
       "\" style=\"fill:#ffffff;\"/>\n",
       "   </g>\n",
       "   <g id=\"PathCollection_1\">\n",
       "    <defs>\n",
       "     <path d=\"M 0 1.581139 \n",
       "C 0.419323 1.581139 0.821528 1.41454 1.118034 1.118034 \n",
       "C 1.41454 0.821528 1.581139 0.419323 1.581139 0 \n",
       "C 1.581139 -0.419323 1.41454 -0.821528 1.118034 -1.118034 \n",
       "C 0.821528 -1.41454 0.419323 -1.581139 0 -1.581139 \n",
       "C -0.419323 -1.581139 -0.821528 -1.41454 -1.118034 -1.118034 \n",
       "C -1.41454 -0.821528 -1.581139 -0.419323 -1.581139 0 \n",
       "C -1.581139 0.419323 -1.41454 0.821528 -1.118034 1.118034 \n",
       "C -0.821528 1.41454 -0.419323 1.581139 0 1.581139 \n",
       "z\n",
       "\" id=\"m469c19697d\" style=\"stroke:#ff0000;\"/>\n",
       "    </defs>\n",
       "    <g clip-path=\"url(#p7ade19e276)\">\n",
       "     <use style=\"fill:#ff0000;stroke:#ff0000;\" x=\"82.130841\" xlink:href=\"#m469c19697d\" y=\"332.921058\"/>\n",
       "     <use style=\"fill:#ff0000;stroke:#ff0000;\" x=\"68.890456\" xlink:href=\"#m469c19697d\" y=\"335.755076\"/>\n",
       "     <use style=\"fill:#ff0000;stroke:#ff0000;\" x=\"74.649797\" xlink:href=\"#m469c19697d\" y=\"335.932202\"/>\n",
       "     <use style=\"fill:#ff0000;stroke:#ff0000;\" x=\"86.056231\" xlink:href=\"#m469c19697d\" y=\"333.806689\"/>\n",
       "    </g>\n",
       "   </g>\n",
       "   <g id=\"PathCollection_2\">\n",
       "    <defs>\n",
       "     <path d=\"M 0 1.581139 \n",
       "C 0.419323 1.581139 0.821528 1.41454 1.118034 1.118034 \n",
       "C 1.41454 0.821528 1.581139 0.419323 1.581139 0 \n",
       "C 1.581139 -0.419323 1.41454 -0.821528 1.118034 -1.118034 \n",
       "C 0.821528 -1.41454 0.419323 -1.581139 0 -1.581139 \n",
       "C -0.419323 -1.581139 -0.821528 -1.41454 -1.118034 -1.118034 \n",
       "C -1.41454 -0.821528 -1.581139 -0.419323 -1.581139 0 \n",
       "C -1.581139 0.419323 -1.41454 0.821528 -1.118034 1.118034 \n",
       "C -0.821528 1.41454 -0.419323 1.581139 0 1.581139 \n",
       "z\n",
       "\" id=\"m9a22cc26d3\" style=\"stroke:#ffff00;\"/>\n",
       "    </defs>\n",
       "    <g clip-path=\"url(#p7ade19e276)\">\n",
       "     <use style=\"fill:#ffff00;stroke:#ffff00;\" x=\"330.974951\" xlink:href=\"#m9a22cc26d3\" y=\"118.067099\"/>\n",
       "     <use style=\"fill:#ffff00;stroke:#ffff00;\" x=\"336.755714\" xlink:href=\"#m9a22cc26d3\" y=\"113.816073\"/>\n",
       "     <use style=\"fill:#ffff00;stroke:#ffff00;\" x=\"326.686386\" xlink:href=\"#m9a22cc26d3\" y=\"126.037774\"/>\n",
       "     <use style=\"fill:#ffff00;stroke:#ffff00;\" x=\"331.261165\" xlink:href=\"#m9a22cc26d3\" y=\"118.244225\"/>\n",
       "     <use style=\"fill:#ffff00;stroke:#ffff00;\" x=\"329.75044\" xlink:href=\"#m9a22cc26d3\" y=\"121.963873\"/>\n",
       "     <use style=\"fill:#ffff00;stroke:#ffff00;\" x=\"332.180102\" xlink:href=\"#m9a22cc26d3\" y=\"115.587334\"/>\n",
       "     <use style=\"fill:#ffff00;stroke:#ffff00;\" x=\"327.075879\" xlink:href=\"#m9a22cc26d3\" y=\"123.735134\"/>\n",
       "     <use style=\"fill:#ffff00;stroke:#ffff00;\" x=\"331.900591\" xlink:href=\"#m9a22cc26d3\" y=\"122.849504\"/>\n",
       "     <use style=\"fill:#ffff00;stroke:#ffff00;\" x=\"325.437526\" xlink:href=\"#m9a22cc26d3\" y=\"124.443639\"/>\n",
       "     <use style=\"fill:#ffff00;stroke:#ffff00;\" x=\"332.349164\" xlink:href=\"#m9a22cc26d3\" y=\"116.472964\"/>\n",
       "    </g>\n",
       "   </g>\n",
       "   <g id=\"PathCollection_3\">\n",
       "    <defs>\n",
       "     <path d=\"M 0 1.581139 \n",
       "C 0.419323 1.581139 0.821528 1.41454 1.118034 1.118034 \n",
       "C 1.41454 0.821528 1.581139 0.419323 1.581139 0 \n",
       "C 1.581139 -0.419323 1.41454 -0.821528 1.118034 -1.118034 \n",
       "C 0.821528 -1.41454 0.419323 -1.581139 0 -1.581139 \n",
       "C -0.419323 -1.581139 -0.821528 -1.41454 -1.118034 -1.118034 \n",
       "C -1.41454 -0.821528 -1.581139 -0.419323 -1.581139 0 \n",
       "C -1.581139 0.419323 -1.41454 0.821528 -1.118034 1.118034 \n",
       "C -0.821528 1.41454 -0.419323 1.581139 0 1.581139 \n",
       "z\n",
       "\" id=\"m32191561d2\" style=\"stroke:#008000;\"/>\n",
       "    </defs>\n",
       "    <g clip-path=\"url(#p7ade19e276)\">\n",
       "     <use style=\"fill:#008000;stroke:#008000;\" x=\"525.300736\" xlink:href=\"#m32191561d2\" y=\"39.423111\"/>\n",
       "     <use style=\"fill:#008000;stroke:#008000;\" x=\"519.705552\" xlink:href=\"#m32191561d2\" y=\"40.131615\"/>\n",
       "     <use style=\"fill:#008000;stroke:#008000;\" x=\"507.288065\" xlink:href=\"#m32191561d2\" y=\"43.851263\"/>\n",
       "     <use style=\"fill:#008000;stroke:#008000;\" x=\"515.016065\" xlink:href=\"#m32191561d2\" y=\"42.257128\"/>\n",
       "     <use style=\"fill:#008000;stroke:#008000;\" x=\"511.46227\" xlink:href=\"#m32191561d2\" y=\"42.965633\"/>\n",
       "     <use style=\"fill:#008000;stroke:#008000;\" x=\"508.295727\" xlink:href=\"#m32191561d2\" y=\"42.434254\"/>\n",
       "    </g>\n",
       "   </g>\n",
       "   <g id=\"matplotlib.axis_1\">\n",
       "    <g id=\"xtick_1\">\n",
       "     <g id=\"line2d_1\">\n",
       "      <path clip-path=\"url(#p7ade19e276)\" d=\"M 45.92125 350.757656 \n",
       "L 45.92125 24.597656 \n",
       "\" style=\"fill:none;stroke:#b0b0b0;stroke-linecap:square;stroke-width:0.8;\"/>\n",
       "     </g>\n",
       "     <g id=\"line2d_2\">\n",
       "      <defs>\n",
       "       <path d=\"M 0 0 \n",
       "L 0 3.5 \n",
       "\" id=\"m9f5b684cd1\" style=\"stroke:#000000;stroke-width:0.8;\"/>\n",
       "      </defs>\n",
       "      <g>\n",
       "       <use style=\"stroke:#000000;stroke-width:0.8;\" x=\"45.92125\" xlink:href=\"#m9f5b684cd1\" y=\"350.757656\"/>\n",
       "      </g>\n",
       "     </g>\n",
       "     <g id=\"text_1\">\n",
       "      <!-- −5 -->\n",
       "      <defs>\n",
       "       <path d=\"M 10.59375 35.5 \n",
       "L 73.1875 35.5 \n",
       "L 73.1875 27.203125 \n",
       "L 10.59375 27.203125 \n",
       "z\n",
       "\" id=\"DejaVuSans-8722\"/>\n",
       "       <path d=\"M 10.796875 72.90625 \n",
       "L 49.515625 72.90625 \n",
       "L 49.515625 64.59375 \n",
       "L 19.828125 64.59375 \n",
       "L 19.828125 46.734375 \n",
       "Q 21.96875 47.46875 24.109375 47.828125 \n",
       "Q 26.265625 48.1875 28.421875 48.1875 \n",
       "Q 40.625 48.1875 47.75 41.5 \n",
       "Q 54.890625 34.8125 54.890625 23.390625 \n",
       "Q 54.890625 11.625 47.5625 5.09375 \n",
       "Q 40.234375 -1.421875 26.90625 -1.421875 \n",
       "Q 22.3125 -1.421875 17.546875 -0.640625 \n",
       "Q 12.796875 0.140625 7.71875 1.703125 \n",
       "L 7.71875 11.625 \n",
       "Q 12.109375 9.234375 16.796875 8.0625 \n",
       "Q 21.484375 6.890625 26.703125 6.890625 \n",
       "Q 35.15625 6.890625 40.078125 11.328125 \n",
       "Q 45.015625 15.765625 45.015625 23.390625 \n",
       "Q 45.015625 31 40.078125 35.4375 \n",
       "Q 35.15625 39.890625 26.703125 39.890625 \n",
       "Q 22.75 39.890625 18.8125 39.015625 \n",
       "Q 14.890625 38.140625 10.796875 36.28125 \n",
       "z\n",
       "\" id=\"DejaVuSans-53\"/>\n",
       "      </defs>\n",
       "      <g transform=\"translate(38.550156 365.356094)scale(0.1 -0.1)\">\n",
       "       <use xlink:href=\"#DejaVuSans-8722\"/>\n",
       "       <use x=\"83.789062\" xlink:href=\"#DejaVuSans-53\"/>\n",
       "      </g>\n",
       "     </g>\n",
       "    </g>\n",
       "    <g id=\"xtick_2\">\n",
       "     <g id=\"line2d_3\">\n",
       "      <path clip-path=\"url(#p7ade19e276)\" d=\"M 96.374212 350.757656 \n",
       "L 96.374212 24.597656 \n",
       "\" style=\"fill:none;stroke:#b0b0b0;stroke-linecap:square;stroke-width:0.8;\"/>\n",
       "     </g>\n",
       "     <g id=\"line2d_4\">\n",
       "      <g>\n",
       "       <use style=\"stroke:#000000;stroke-width:0.8;\" x=\"96.374212\" xlink:href=\"#m9f5b684cd1\" y=\"350.757656\"/>\n",
       "      </g>\n",
       "     </g>\n",
       "     <g id=\"text_2\">\n",
       "      <!-- −4 -->\n",
       "      <defs>\n",
       "       <path d=\"M 37.796875 64.3125 \n",
       "L 12.890625 25.390625 \n",
       "L 37.796875 25.390625 \n",
       "z\n",
       "M 35.203125 72.90625 \n",
       "L 47.609375 72.90625 \n",
       "L 47.609375 25.390625 \n",
       "L 58.015625 25.390625 \n",
       "L 58.015625 17.1875 \n",
       "L 47.609375 17.1875 \n",
       "L 47.609375 0 \n",
       "L 37.796875 0 \n",
       "L 37.796875 17.1875 \n",
       "L 4.890625 17.1875 \n",
       "L 4.890625 26.703125 \n",
       "z\n",
       "\" id=\"DejaVuSans-52\"/>\n",
       "      </defs>\n",
       "      <g transform=\"translate(89.003119 365.356094)scale(0.1 -0.1)\">\n",
       "       <use xlink:href=\"#DejaVuSans-8722\"/>\n",
       "       <use x=\"83.789062\" xlink:href=\"#DejaVuSans-52\"/>\n",
       "      </g>\n",
       "     </g>\n",
       "    </g>\n",
       "    <g id=\"xtick_3\">\n",
       "     <g id=\"line2d_5\">\n",
       "      <path clip-path=\"url(#p7ade19e276)\" d=\"M 146.827175 350.757656 \n",
       "L 146.827175 24.597656 \n",
       "\" style=\"fill:none;stroke:#b0b0b0;stroke-linecap:square;stroke-width:0.8;\"/>\n",
       "     </g>\n",
       "     <g id=\"line2d_6\">\n",
       "      <g>\n",
       "       <use style=\"stroke:#000000;stroke-width:0.8;\" x=\"146.827175\" xlink:href=\"#m9f5b684cd1\" y=\"350.757656\"/>\n",
       "      </g>\n",
       "     </g>\n",
       "     <g id=\"text_3\">\n",
       "      <!-- −3 -->\n",
       "      <defs>\n",
       "       <path d=\"M 40.578125 39.3125 \n",
       "Q 47.65625 37.796875 51.625 33 \n",
       "Q 55.609375 28.21875 55.609375 21.1875 \n",
       "Q 55.609375 10.40625 48.1875 4.484375 \n",
       "Q 40.765625 -1.421875 27.09375 -1.421875 \n",
       "Q 22.515625 -1.421875 17.65625 -0.515625 \n",
       "Q 12.796875 0.390625 7.625 2.203125 \n",
       "L 7.625 11.71875 \n",
       "Q 11.71875 9.328125 16.59375 8.109375 \n",
       "Q 21.484375 6.890625 26.8125 6.890625 \n",
       "Q 36.078125 6.890625 40.9375 10.546875 \n",
       "Q 45.796875 14.203125 45.796875 21.1875 \n",
       "Q 45.796875 27.640625 41.28125 31.265625 \n",
       "Q 36.765625 34.90625 28.71875 34.90625 \n",
       "L 20.21875 34.90625 \n",
       "L 20.21875 43.015625 \n",
       "L 29.109375 43.015625 \n",
       "Q 36.375 43.015625 40.234375 45.921875 \n",
       "Q 44.09375 48.828125 44.09375 54.296875 \n",
       "Q 44.09375 59.90625 40.109375 62.90625 \n",
       "Q 36.140625 65.921875 28.71875 65.921875 \n",
       "Q 24.65625 65.921875 20.015625 65.03125 \n",
       "Q 15.375 64.15625 9.8125 62.3125 \n",
       "L 9.8125 71.09375 \n",
       "Q 15.4375 72.65625 20.34375 73.4375 \n",
       "Q 25.25 74.21875 29.59375 74.21875 \n",
       "Q 40.828125 74.21875 47.359375 69.109375 \n",
       "Q 53.90625 64.015625 53.90625 55.328125 \n",
       "Q 53.90625 49.265625 50.4375 45.09375 \n",
       "Q 46.96875 40.921875 40.578125 39.3125 \n",
       "z\n",
       "\" id=\"DejaVuSans-51\"/>\n",
       "      </defs>\n",
       "      <g transform=\"translate(139.456081 365.356094)scale(0.1 -0.1)\">\n",
       "       <use xlink:href=\"#DejaVuSans-8722\"/>\n",
       "       <use x=\"83.789062\" xlink:href=\"#DejaVuSans-51\"/>\n",
       "      </g>\n",
       "     </g>\n",
       "    </g>\n",
       "    <g id=\"xtick_4\">\n",
       "     <g id=\"line2d_7\">\n",
       "      <path clip-path=\"url(#p7ade19e276)\" d=\"M 197.280137 350.757656 \n",
       "L 197.280137 24.597656 \n",
       "\" style=\"fill:none;stroke:#b0b0b0;stroke-linecap:square;stroke-width:0.8;\"/>\n",
       "     </g>\n",
       "     <g id=\"line2d_8\">\n",
       "      <g>\n",
       "       <use style=\"stroke:#000000;stroke-width:0.8;\" x=\"197.280137\" xlink:href=\"#m9f5b684cd1\" y=\"350.757656\"/>\n",
       "      </g>\n",
       "     </g>\n",
       "     <g id=\"text_4\">\n",
       "      <!-- −2 -->\n",
       "      <defs>\n",
       "       <path d=\"M 19.1875 8.296875 \n",
       "L 53.609375 8.296875 \n",
       "L 53.609375 0 \n",
       "L 7.328125 0 \n",
       "L 7.328125 8.296875 \n",
       "Q 12.9375 14.109375 22.625 23.890625 \n",
       "Q 32.328125 33.6875 34.8125 36.53125 \n",
       "Q 39.546875 41.84375 41.421875 45.53125 \n",
       "Q 43.3125 49.21875 43.3125 52.78125 \n",
       "Q 43.3125 58.59375 39.234375 62.25 \n",
       "Q 35.15625 65.921875 28.609375 65.921875 \n",
       "Q 23.96875 65.921875 18.8125 64.3125 \n",
       "Q 13.671875 62.703125 7.8125 59.421875 \n",
       "L 7.8125 69.390625 \n",
       "Q 13.765625 71.78125 18.9375 73 \n",
       "Q 24.125 74.21875 28.421875 74.21875 \n",
       "Q 39.75 74.21875 46.484375 68.546875 \n",
       "Q 53.21875 62.890625 53.21875 53.421875 \n",
       "Q 53.21875 48.921875 51.53125 44.890625 \n",
       "Q 49.859375 40.875 45.40625 35.40625 \n",
       "Q 44.1875 33.984375 37.640625 27.21875 \n",
       "Q 31.109375 20.453125 19.1875 8.296875 \n",
       "z\n",
       "\" id=\"DejaVuSans-50\"/>\n",
       "      </defs>\n",
       "      <g transform=\"translate(189.909044 365.356094)scale(0.1 -0.1)\">\n",
       "       <use xlink:href=\"#DejaVuSans-8722\"/>\n",
       "       <use x=\"83.789062\" xlink:href=\"#DejaVuSans-50\"/>\n",
       "      </g>\n",
       "     </g>\n",
       "    </g>\n",
       "    <g id=\"xtick_5\">\n",
       "     <g id=\"line2d_9\">\n",
       "      <path clip-path=\"url(#p7ade19e276)\" d=\"M 247.7331 350.757656 \n",
       "L 247.7331 24.597656 \n",
       "\" style=\"fill:none;stroke:#b0b0b0;stroke-linecap:square;stroke-width:0.8;\"/>\n",
       "     </g>\n",
       "     <g id=\"line2d_10\">\n",
       "      <g>\n",
       "       <use style=\"stroke:#000000;stroke-width:0.8;\" x=\"247.7331\" xlink:href=\"#m9f5b684cd1\" y=\"350.757656\"/>\n",
       "      </g>\n",
       "     </g>\n",
       "     <g id=\"text_5\">\n",
       "      <!-- −1 -->\n",
       "      <defs>\n",
       "       <path d=\"M 12.40625 8.296875 \n",
       "L 28.515625 8.296875 \n",
       "L 28.515625 63.921875 \n",
       "L 10.984375 60.40625 \n",
       "L 10.984375 69.390625 \n",
       "L 28.421875 72.90625 \n",
       "L 38.28125 72.90625 \n",
       "L 38.28125 8.296875 \n",
       "L 54.390625 8.296875 \n",
       "L 54.390625 0 \n",
       "L 12.40625 0 \n",
       "z\n",
       "\" id=\"DejaVuSans-49\"/>\n",
       "      </defs>\n",
       "      <g transform=\"translate(240.362006 365.356094)scale(0.1 -0.1)\">\n",
       "       <use xlink:href=\"#DejaVuSans-8722\"/>\n",
       "       <use x=\"83.789062\" xlink:href=\"#DejaVuSans-49\"/>\n",
       "      </g>\n",
       "     </g>\n",
       "    </g>\n",
       "    <g id=\"xtick_6\">\n",
       "     <g id=\"line2d_11\">\n",
       "      <path clip-path=\"url(#p7ade19e276)\" d=\"M 298.186062 350.757656 \n",
       "L 298.186062 24.597656 \n",
       "\" style=\"fill:none;stroke:#b0b0b0;stroke-linecap:square;stroke-width:0.8;\"/>\n",
       "     </g>\n",
       "     <g id=\"line2d_12\">\n",
       "      <g>\n",
       "       <use style=\"stroke:#000000;stroke-width:0.8;\" x=\"298.186062\" xlink:href=\"#m9f5b684cd1\" y=\"350.757656\"/>\n",
       "      </g>\n",
       "     </g>\n",
       "     <g id=\"text_6\">\n",
       "      <!-- 0 -->\n",
       "      <defs>\n",
       "       <path d=\"M 31.78125 66.40625 \n",
       "Q 24.171875 66.40625 20.328125 58.90625 \n",
       "Q 16.5 51.421875 16.5 36.375 \n",
       "Q 16.5 21.390625 20.328125 13.890625 \n",
       "Q 24.171875 6.390625 31.78125 6.390625 \n",
       "Q 39.453125 6.390625 43.28125 13.890625 \n",
       "Q 47.125 21.390625 47.125 36.375 \n",
       "Q 47.125 51.421875 43.28125 58.90625 \n",
       "Q 39.453125 66.40625 31.78125 66.40625 \n",
       "z\n",
       "M 31.78125 74.21875 \n",
       "Q 44.046875 74.21875 50.515625 64.515625 \n",
       "Q 56.984375 54.828125 56.984375 36.375 \n",
       "Q 56.984375 17.96875 50.515625 8.265625 \n",
       "Q 44.046875 -1.421875 31.78125 -1.421875 \n",
       "Q 19.53125 -1.421875 13.0625 8.265625 \n",
       "Q 6.59375 17.96875 6.59375 36.375 \n",
       "Q 6.59375 54.828125 13.0625 64.515625 \n",
       "Q 19.53125 74.21875 31.78125 74.21875 \n",
       "z\n",
       "\" id=\"DejaVuSans-48\"/>\n",
       "      </defs>\n",
       "      <g transform=\"translate(295.004812 365.356094)scale(0.1 -0.1)\">\n",
       "       <use xlink:href=\"#DejaVuSans-48\"/>\n",
       "      </g>\n",
       "     </g>\n",
       "    </g>\n",
       "    <g id=\"xtick_7\">\n",
       "     <g id=\"line2d_13\">\n",
       "      <path clip-path=\"url(#p7ade19e276)\" d=\"M 348.639025 350.757656 \n",
       "L 348.639025 24.597656 \n",
       "\" style=\"fill:none;stroke:#b0b0b0;stroke-linecap:square;stroke-width:0.8;\"/>\n",
       "     </g>\n",
       "     <g id=\"line2d_14\">\n",
       "      <g>\n",
       "       <use style=\"stroke:#000000;stroke-width:0.8;\" x=\"348.639025\" xlink:href=\"#m9f5b684cd1\" y=\"350.757656\"/>\n",
       "      </g>\n",
       "     </g>\n",
       "     <g id=\"text_7\">\n",
       "      <!-- 1 -->\n",
       "      <g transform=\"translate(345.457775 365.356094)scale(0.1 -0.1)\">\n",
       "       <use xlink:href=\"#DejaVuSans-49\"/>\n",
       "      </g>\n",
       "     </g>\n",
       "    </g>\n",
       "    <g id=\"xtick_8\">\n",
       "     <g id=\"line2d_15\">\n",
       "      <path clip-path=\"url(#p7ade19e276)\" d=\"M 399.091987 350.757656 \n",
       "L 399.091987 24.597656 \n",
       "\" style=\"fill:none;stroke:#b0b0b0;stroke-linecap:square;stroke-width:0.8;\"/>\n",
       "     </g>\n",
       "     <g id=\"line2d_16\">\n",
       "      <g>\n",
       "       <use style=\"stroke:#000000;stroke-width:0.8;\" x=\"399.091987\" xlink:href=\"#m9f5b684cd1\" y=\"350.757656\"/>\n",
       "      </g>\n",
       "     </g>\n",
       "     <g id=\"text_8\">\n",
       "      <!-- 2 -->\n",
       "      <g transform=\"translate(395.910737 365.356094)scale(0.1 -0.1)\">\n",
       "       <use xlink:href=\"#DejaVuSans-50\"/>\n",
       "      </g>\n",
       "     </g>\n",
       "    </g>\n",
       "    <g id=\"xtick_9\">\n",
       "     <g id=\"line2d_17\">\n",
       "      <path clip-path=\"url(#p7ade19e276)\" d=\"M 449.54495 350.757656 \n",
       "L 449.54495 24.597656 \n",
       "\" style=\"fill:none;stroke:#b0b0b0;stroke-linecap:square;stroke-width:0.8;\"/>\n",
       "     </g>\n",
       "     <g id=\"line2d_18\">\n",
       "      <g>\n",
       "       <use style=\"stroke:#000000;stroke-width:0.8;\" x=\"449.54495\" xlink:href=\"#m9f5b684cd1\" y=\"350.757656\"/>\n",
       "      </g>\n",
       "     </g>\n",
       "     <g id=\"text_9\">\n",
       "      <!-- 3 -->\n",
       "      <g transform=\"translate(446.3637 365.356094)scale(0.1 -0.1)\">\n",
       "       <use xlink:href=\"#DejaVuSans-51\"/>\n",
       "      </g>\n",
       "     </g>\n",
       "    </g>\n",
       "    <g id=\"xtick_10\">\n",
       "     <g id=\"line2d_19\">\n",
       "      <path clip-path=\"url(#p7ade19e276)\" d=\"M 499.997912 350.757656 \n",
       "L 499.997912 24.597656 \n",
       "\" style=\"fill:none;stroke:#b0b0b0;stroke-linecap:square;stroke-width:0.8;\"/>\n",
       "     </g>\n",
       "     <g id=\"line2d_20\">\n",
       "      <g>\n",
       "       <use style=\"stroke:#000000;stroke-width:0.8;\" x=\"499.997912\" xlink:href=\"#m9f5b684cd1\" y=\"350.757656\"/>\n",
       "      </g>\n",
       "     </g>\n",
       "     <g id=\"text_10\">\n",
       "      <!-- 4 -->\n",
       "      <g transform=\"translate(496.816662 365.356094)scale(0.1 -0.1)\">\n",
       "       <use xlink:href=\"#DejaVuSans-52\"/>\n",
       "      </g>\n",
       "     </g>\n",
       "    </g>\n",
       "    <g id=\"text_11\">\n",
       "     <!-- alpha -->\n",
       "     <defs>\n",
       "      <path d=\"M 34.28125 27.484375 \n",
       "Q 23.390625 27.484375 19.1875 25 \n",
       "Q 14.984375 22.515625 14.984375 16.5 \n",
       "Q 14.984375 11.71875 18.140625 8.90625 \n",
       "Q 21.296875 6.109375 26.703125 6.109375 \n",
       "Q 34.1875 6.109375 38.703125 11.40625 \n",
       "Q 43.21875 16.703125 43.21875 25.484375 \n",
       "L 43.21875 27.484375 \n",
       "z\n",
       "M 52.203125 31.203125 \n",
       "L 52.203125 0 \n",
       "L 43.21875 0 \n",
       "L 43.21875 8.296875 \n",
       "Q 40.140625 3.328125 35.546875 0.953125 \n",
       "Q 30.953125 -1.421875 24.3125 -1.421875 \n",
       "Q 15.921875 -1.421875 10.953125 3.296875 \n",
       "Q 6 8.015625 6 15.921875 \n",
       "Q 6 25.140625 12.171875 29.828125 \n",
       "Q 18.359375 34.515625 30.609375 34.515625 \n",
       "L 43.21875 34.515625 \n",
       "L 43.21875 35.40625 \n",
       "Q 43.21875 41.609375 39.140625 45 \n",
       "Q 35.0625 48.390625 27.6875 48.390625 \n",
       "Q 23 48.390625 18.546875 47.265625 \n",
       "Q 14.109375 46.140625 10.015625 43.890625 \n",
       "L 10.015625 52.203125 \n",
       "Q 14.9375 54.109375 19.578125 55.046875 \n",
       "Q 24.21875 56 28.609375 56 \n",
       "Q 40.484375 56 46.34375 49.84375 \n",
       "Q 52.203125 43.703125 52.203125 31.203125 \n",
       "z\n",
       "\" id=\"DejaVuSans-97\"/>\n",
       "      <path d=\"M 9.421875 75.984375 \n",
       "L 18.40625 75.984375 \n",
       "L 18.40625 0 \n",
       "L 9.421875 0 \n",
       "z\n",
       "\" id=\"DejaVuSans-108\"/>\n",
       "      <path d=\"M 18.109375 8.203125 \n",
       "L 18.109375 -20.796875 \n",
       "L 9.078125 -20.796875 \n",
       "L 9.078125 54.6875 \n",
       "L 18.109375 54.6875 \n",
       "L 18.109375 46.390625 \n",
       "Q 20.953125 51.265625 25.265625 53.625 \n",
       "Q 29.59375 56 35.59375 56 \n",
       "Q 45.5625 56 51.78125 48.09375 \n",
       "Q 58.015625 40.1875 58.015625 27.296875 \n",
       "Q 58.015625 14.40625 51.78125 6.484375 \n",
       "Q 45.5625 -1.421875 35.59375 -1.421875 \n",
       "Q 29.59375 -1.421875 25.265625 0.953125 \n",
       "Q 20.953125 3.328125 18.109375 8.203125 \n",
       "z\n",
       "M 48.6875 27.296875 \n",
       "Q 48.6875 37.203125 44.609375 42.84375 \n",
       "Q 40.53125 48.484375 33.40625 48.484375 \n",
       "Q 26.265625 48.484375 22.1875 42.84375 \n",
       "Q 18.109375 37.203125 18.109375 27.296875 \n",
       "Q 18.109375 17.390625 22.1875 11.75 \n",
       "Q 26.265625 6.109375 33.40625 6.109375 \n",
       "Q 40.53125 6.109375 44.609375 11.75 \n",
       "Q 48.6875 17.390625 48.6875 27.296875 \n",
       "z\n",
       "\" id=\"DejaVuSans-112\"/>\n",
       "      <path d=\"M 54.890625 33.015625 \n",
       "L 54.890625 0 \n",
       "L 45.90625 0 \n",
       "L 45.90625 32.71875 \n",
       "Q 45.90625 40.484375 42.875 44.328125 \n",
       "Q 39.84375 48.1875 33.796875 48.1875 \n",
       "Q 26.515625 48.1875 22.3125 43.546875 \n",
       "Q 18.109375 38.921875 18.109375 30.90625 \n",
       "L 18.109375 0 \n",
       "L 9.078125 0 \n",
       "L 9.078125 75.984375 \n",
       "L 18.109375 75.984375 \n",
       "L 18.109375 46.1875 \n",
       "Q 21.34375 51.125 25.703125 53.5625 \n",
       "Q 30.078125 56 35.796875 56 \n",
       "Q 45.21875 56 50.046875 50.171875 \n",
       "Q 54.890625 44.34375 54.890625 33.015625 \n",
       "z\n",
       "\" id=\"DejaVuSans-104\"/>\n",
       "     </defs>\n",
       "     <g transform=\"translate(280.389063 380.553906)scale(0.12 -0.12)\">\n",
       "      <use xlink:href=\"#DejaVuSans-97\"/>\n",
       "      <use x=\"61.279297\" xlink:href=\"#DejaVuSans-108\"/>\n",
       "      <use x=\"89.0625\" xlink:href=\"#DejaVuSans-112\"/>\n",
       "      <use x=\"152.539062\" xlink:href=\"#DejaVuSans-104\"/>\n",
       "      <use x=\"215.917969\" xlink:href=\"#DejaVuSans-97\"/>\n",
       "     </g>\n",
       "    </g>\n",
       "   </g>\n",
       "   <g id=\"matplotlib.axis_2\">\n",
       "    <g id=\"ytick_1\">\n",
       "     <g id=\"line2d_21\">\n",
       "      <path clip-path=\"url(#p7ade19e276)\" d=\"M 45.92125 294.130442 \n",
       "L 548.12125 294.130442 \n",
       "\" style=\"fill:none;stroke:#b0b0b0;stroke-linecap:square;stroke-width:0.8;\"/>\n",
       "     </g>\n",
       "     <g id=\"line2d_22\">\n",
       "      <defs>\n",
       "       <path d=\"M 0 0 \n",
       "L -3.5 0 \n",
       "\" id=\"m21f623c635\" style=\"stroke:#000000;stroke-width:0.8;\"/>\n",
       "      </defs>\n",
       "      <g>\n",
       "       <use style=\"stroke:#000000;stroke-width:0.8;\" x=\"45.92125\" xlink:href=\"#m21f623c635\" y=\"294.130442\"/>\n",
       "      </g>\n",
       "     </g>\n",
       "     <g id=\"text_12\">\n",
       "      <!-- 0.2 -->\n",
       "      <defs>\n",
       "       <path d=\"M 10.6875 12.40625 \n",
       "L 21 12.40625 \n",
       "L 21 0 \n",
       "L 10.6875 0 \n",
       "z\n",
       "\" id=\"DejaVuSans-46\"/>\n",
       "      </defs>\n",
       "      <g transform=\"translate(23.018125 297.929661)scale(0.1 -0.1)\">\n",
       "       <use xlink:href=\"#DejaVuSans-48\"/>\n",
       "       <use x=\"63.623047\" xlink:href=\"#DejaVuSans-46\"/>\n",
       "       <use x=\"95.410156\" xlink:href=\"#DejaVuSans-50\"/>\n",
       "      </g>\n",
       "     </g>\n",
       "    </g>\n",
       "    <g id=\"ytick_2\">\n",
       "     <g id=\"line2d_23\">\n",
       "      <path clip-path=\"url(#p7ade19e276)\" d=\"M 45.92125 223.280002 \n",
       "L 548.12125 223.280002 \n",
       "\" style=\"fill:none;stroke:#b0b0b0;stroke-linecap:square;stroke-width:0.8;\"/>\n",
       "     </g>\n",
       "     <g id=\"line2d_24\">\n",
       "      <g>\n",
       "       <use style=\"stroke:#000000;stroke-width:0.8;\" x=\"45.92125\" xlink:href=\"#m21f623c635\" y=\"223.280002\"/>\n",
       "      </g>\n",
       "     </g>\n",
       "     <g id=\"text_13\">\n",
       "      <!-- 0.4 -->\n",
       "      <g transform=\"translate(23.018125 227.079221)scale(0.1 -0.1)\">\n",
       "       <use xlink:href=\"#DejaVuSans-48\"/>\n",
       "       <use x=\"63.623047\" xlink:href=\"#DejaVuSans-46\"/>\n",
       "       <use x=\"95.410156\" xlink:href=\"#DejaVuSans-52\"/>\n",
       "      </g>\n",
       "     </g>\n",
       "    </g>\n",
       "    <g id=\"ytick_3\">\n",
       "     <g id=\"line2d_25\">\n",
       "      <path clip-path=\"url(#p7ade19e276)\" d=\"M 45.92125 152.429562 \n",
       "L 548.12125 152.429562 \n",
       "\" style=\"fill:none;stroke:#b0b0b0;stroke-linecap:square;stroke-width:0.8;\"/>\n",
       "     </g>\n",
       "     <g id=\"line2d_26\">\n",
       "      <g>\n",
       "       <use style=\"stroke:#000000;stroke-width:0.8;\" x=\"45.92125\" xlink:href=\"#m21f623c635\" y=\"152.429562\"/>\n",
       "      </g>\n",
       "     </g>\n",
       "     <g id=\"text_14\">\n",
       "      <!-- 0.6 -->\n",
       "      <defs>\n",
       "       <path d=\"M 33.015625 40.375 \n",
       "Q 26.375 40.375 22.484375 35.828125 \n",
       "Q 18.609375 31.296875 18.609375 23.390625 \n",
       "Q 18.609375 15.53125 22.484375 10.953125 \n",
       "Q 26.375 6.390625 33.015625 6.390625 \n",
       "Q 39.65625 6.390625 43.53125 10.953125 \n",
       "Q 47.40625 15.53125 47.40625 23.390625 \n",
       "Q 47.40625 31.296875 43.53125 35.828125 \n",
       "Q 39.65625 40.375 33.015625 40.375 \n",
       "z\n",
       "M 52.59375 71.296875 \n",
       "L 52.59375 62.3125 \n",
       "Q 48.875 64.0625 45.09375 64.984375 \n",
       "Q 41.3125 65.921875 37.59375 65.921875 \n",
       "Q 27.828125 65.921875 22.671875 59.328125 \n",
       "Q 17.53125 52.734375 16.796875 39.40625 \n",
       "Q 19.671875 43.65625 24.015625 45.921875 \n",
       "Q 28.375 48.1875 33.59375 48.1875 \n",
       "Q 44.578125 48.1875 50.953125 41.515625 \n",
       "Q 57.328125 34.859375 57.328125 23.390625 \n",
       "Q 57.328125 12.15625 50.6875 5.359375 \n",
       "Q 44.046875 -1.421875 33.015625 -1.421875 \n",
       "Q 20.359375 -1.421875 13.671875 8.265625 \n",
       "Q 6.984375 17.96875 6.984375 36.375 \n",
       "Q 6.984375 53.65625 15.1875 63.9375 \n",
       "Q 23.390625 74.21875 37.203125 74.21875 \n",
       "Q 40.921875 74.21875 44.703125 73.484375 \n",
       "Q 48.484375 72.75 52.59375 71.296875 \n",
       "z\n",
       "\" id=\"DejaVuSans-54\"/>\n",
       "      </defs>\n",
       "      <g transform=\"translate(23.018125 156.228781)scale(0.1 -0.1)\">\n",
       "       <use xlink:href=\"#DejaVuSans-48\"/>\n",
       "       <use x=\"63.623047\" xlink:href=\"#DejaVuSans-46\"/>\n",
       "       <use x=\"95.410156\" xlink:href=\"#DejaVuSans-54\"/>\n",
       "      </g>\n",
       "     </g>\n",
       "    </g>\n",
       "    <g id=\"ytick_4\">\n",
       "     <g id=\"line2d_27\">\n",
       "      <path clip-path=\"url(#p7ade19e276)\" d=\"M 45.92125 81.579123 \n",
       "L 548.12125 81.579123 \n",
       "\" style=\"fill:none;stroke:#b0b0b0;stroke-linecap:square;stroke-width:0.8;\"/>\n",
       "     </g>\n",
       "     <g id=\"line2d_28\">\n",
       "      <g>\n",
       "       <use style=\"stroke:#000000;stroke-width:0.8;\" x=\"45.92125\" xlink:href=\"#m21f623c635\" y=\"81.579123\"/>\n",
       "      </g>\n",
       "     </g>\n",
       "     <g id=\"text_15\">\n",
       "      <!-- 0.8 -->\n",
       "      <defs>\n",
       "       <path d=\"M 31.78125 34.625 \n",
       "Q 24.75 34.625 20.71875 30.859375 \n",
       "Q 16.703125 27.09375 16.703125 20.515625 \n",
       "Q 16.703125 13.921875 20.71875 10.15625 \n",
       "Q 24.75 6.390625 31.78125 6.390625 \n",
       "Q 38.8125 6.390625 42.859375 10.171875 \n",
       "Q 46.921875 13.96875 46.921875 20.515625 \n",
       "Q 46.921875 27.09375 42.890625 30.859375 \n",
       "Q 38.875 34.625 31.78125 34.625 \n",
       "z\n",
       "M 21.921875 38.8125 \n",
       "Q 15.578125 40.375 12.03125 44.71875 \n",
       "Q 8.5 49.078125 8.5 55.328125 \n",
       "Q 8.5 64.0625 14.71875 69.140625 \n",
       "Q 20.953125 74.21875 31.78125 74.21875 \n",
       "Q 42.671875 74.21875 48.875 69.140625 \n",
       "Q 55.078125 64.0625 55.078125 55.328125 \n",
       "Q 55.078125 49.078125 51.53125 44.71875 \n",
       "Q 48 40.375 41.703125 38.8125 \n",
       "Q 48.828125 37.15625 52.796875 32.3125 \n",
       "Q 56.78125 27.484375 56.78125 20.515625 \n",
       "Q 56.78125 9.90625 50.3125 4.234375 \n",
       "Q 43.84375 -1.421875 31.78125 -1.421875 \n",
       "Q 19.734375 -1.421875 13.25 4.234375 \n",
       "Q 6.78125 9.90625 6.78125 20.515625 \n",
       "Q 6.78125 27.484375 10.78125 32.3125 \n",
       "Q 14.796875 37.15625 21.921875 38.8125 \n",
       "z\n",
       "M 18.3125 54.390625 \n",
       "Q 18.3125 48.734375 21.84375 45.5625 \n",
       "Q 25.390625 42.390625 31.78125 42.390625 \n",
       "Q 38.140625 42.390625 41.71875 45.5625 \n",
       "Q 45.3125 48.734375 45.3125 54.390625 \n",
       "Q 45.3125 60.0625 41.71875 63.234375 \n",
       "Q 38.140625 66.40625 31.78125 66.40625 \n",
       "Q 25.390625 66.40625 21.84375 63.234375 \n",
       "Q 18.3125 60.0625 18.3125 54.390625 \n",
       "z\n",
       "\" id=\"DejaVuSans-56\"/>\n",
       "      </defs>\n",
       "      <g transform=\"translate(23.018125 85.378341)scale(0.1 -0.1)\">\n",
       "       <use xlink:href=\"#DejaVuSans-48\"/>\n",
       "       <use x=\"63.623047\" xlink:href=\"#DejaVuSans-46\"/>\n",
       "       <use x=\"95.410156\" xlink:href=\"#DejaVuSans-56\"/>\n",
       "      </g>\n",
       "     </g>\n",
       "    </g>\n",
       "    <g id=\"text_16\">\n",
       "     <!-- Доля верно размеченных объектов -->\n",
       "     <defs>\n",
       "      <path d=\"M 22.796875 8.296875 \n",
       "L 55.03125 8.296875 \n",
       "L 55.03125 64.59375 \n",
       "L 31.34375 64.59375 \n",
       "L 31.34375 54.25 \n",
       "Q 31.34375 29.890625 25.875 13.71875 \n",
       "Q 24.75 10.40625 22.796875 8.296875 \n",
       "z\n",
       "M 8.40625 8.296875 \n",
       "Q 14.9375 11.375 16.796875 17.234375 \n",
       "Q 21.53125 32.28125 21.53125 59.125 \n",
       "L 21.53125 72.90625 \n",
       "L 64.890625 72.90625 \n",
       "L 64.890625 8.296875 \n",
       "L 73.1875 8.296875 \n",
       "L 73.1875 -15.671875 \n",
       "L 64.890625 -15.671875 \n",
       "L 64.890625 0 \n",
       "L 13.234375 0 \n",
       "L 13.234375 -15.671875 \n",
       "L 4.9375 -15.671875 \n",
       "L 4.9375 8.296875 \n",
       "z\n",
       "\" id=\"DejaVuSans-1044\"/>\n",
       "      <path d=\"M 30.609375 48.390625 \n",
       "Q 23.390625 48.390625 19.1875 42.75 \n",
       "Q 14.984375 37.109375 14.984375 27.296875 \n",
       "Q 14.984375 17.484375 19.15625 11.84375 \n",
       "Q 23.34375 6.203125 30.609375 6.203125 \n",
       "Q 37.796875 6.203125 41.984375 11.859375 \n",
       "Q 46.1875 17.53125 46.1875 27.296875 \n",
       "Q 46.1875 37.015625 41.984375 42.703125 \n",
       "Q 37.796875 48.390625 30.609375 48.390625 \n",
       "z\n",
       "M 30.609375 56 \n",
       "Q 42.328125 56 49.015625 48.375 \n",
       "Q 55.71875 40.765625 55.71875 27.296875 \n",
       "Q 55.71875 13.875 49.015625 6.21875 \n",
       "Q 42.328125 -1.421875 30.609375 -1.421875 \n",
       "Q 18.84375 -1.421875 12.171875 6.21875 \n",
       "Q 5.515625 13.875 5.515625 27.296875 \n",
       "Q 5.515625 40.765625 12.171875 48.375 \n",
       "Q 18.84375 56 30.609375 56 \n",
       "z\n",
       "\" id=\"DejaVuSans-1086\"/>\n",
       "      <path d=\"M 3.71875 0 \n",
       "L 3.71875 7.46875 \n",
       "Q 12.59375 8.84375 15.328125 14.984375 \n",
       "Q 18.65625 23.640625 18.65625 45.75 \n",
       "L 18.65625 54.6875 \n",
       "L 55.609375 54.6875 \n",
       "L 55.609375 0 \n",
       "L 46.625 0 \n",
       "L 46.625 47.515625 \n",
       "L 27.640625 47.515625 \n",
       "L 27.640625 42.09375 \n",
       "Q 27.640625 21 23.34375 11.53125 \n",
       "Q 18.75 1.421875 3.71875 0 \n",
       "z\n",
       "\" id=\"DejaVuSans-1083\"/>\n",
       "      <path d=\"M 18.453125 38.921875 \n",
       "Q 18.453125 34.859375 21.578125 32.5625 \n",
       "Q 24.703125 30.28125 30.515625 30.28125 \n",
       "L 42.625 30.28125 \n",
       "L 42.625 47.515625 \n",
       "L 30.515625 47.515625 \n",
       "Q 24.703125 47.515625 21.578125 45.265625 \n",
       "Q 18.453125 43.015625 18.453125 38.921875 \n",
       "z\n",
       "M 5.671875 0 \n",
       "L 22.359375 23.96875 \n",
       "Q 16.703125 25.25 12.9375 28.59375 \n",
       "Q 9.1875 31.9375 9.1875 38.921875 \n",
       "Q 9.1875 46.828125 14.421875 50.75 \n",
       "Q 19.671875 54.6875 30.28125 54.6875 \n",
       "L 51.65625 54.6875 \n",
       "L 51.65625 0 \n",
       "L 42.625 0 \n",
       "L 42.625 23.09375 \n",
       "L 31.453125 23.09375 \n",
       "L 15.328125 0 \n",
       "z\n",
       "\" id=\"DejaVuSans-1103\"/>\n",
       "      <path id=\"DejaVuSans-32\"/>\n",
       "      <path d=\"M 18.0625 25.203125 \n",
       "L 18.0625 7.171875 \n",
       "L 30.859375 7.171875 \n",
       "Q 37.015625 7.171875 40.234375 9.484375 \n",
       "Q 43.453125 11.8125 43.453125 16.21875 \n",
       "Q 43.453125 20.609375 40.234375 22.90625 \n",
       "Q 37.015625 25.203125 30.859375 25.203125 \n",
       "z\n",
       "M 18.0625 47.515625 \n",
       "L 18.0625 32.375 \n",
       "L 29.890625 32.375 \n",
       "Q 34.96875 32.375 38.1875 34.390625 \n",
       "Q 41.40625 36.421875 41.40625 40.046875 \n",
       "Q 41.40625 43.65625 38.1875 45.578125 \n",
       "Q 34.96875 47.515625 29.890625 47.515625 \n",
       "z\n",
       "M 9.078125 54.6875 \n",
       "L 30.46875 54.6875 \n",
       "Q 40.09375 54.6875 45.265625 51.171875 \n",
       "Q 50.4375 47.65625 50.4375 41.15625 \n",
       "Q 50.4375 36.140625 47.796875 33.171875 \n",
       "Q 45.171875 30.21875 39.984375 29.5 \n",
       "Q 46.1875 28.328125 49.609375 24.609375 \n",
       "Q 53.03125 20.90625 53.03125 15.328125 \n",
       "Q 53.03125 8.015625 47.390625 4 \n",
       "Q 41.75 0 31.296875 0 \n",
       "L 9.078125 0 \n",
       "z\n",
       "\" id=\"DejaVuSans-1074\"/>\n",
       "      <path d=\"M 56.203125 29.59375 \n",
       "L 56.203125 25.203125 \n",
       "L 14.890625 25.203125 \n",
       "Q 15.484375 15.921875 20.484375 11.0625 \n",
       "Q 25.484375 6.203125 34.421875 6.203125 \n",
       "Q 39.59375 6.203125 44.453125 7.46875 \n",
       "Q 49.3125 8.734375 54.109375 11.28125 \n",
       "L 54.109375 2.78125 \n",
       "Q 49.265625 0.734375 44.1875 -0.34375 \n",
       "Q 39.109375 -1.421875 33.890625 -1.421875 \n",
       "Q 20.796875 -1.421875 13.15625 6.1875 \n",
       "Q 5.515625 13.8125 5.515625 26.8125 \n",
       "Q 5.515625 40.234375 12.765625 48.109375 \n",
       "Q 20.015625 56 32.328125 56 \n",
       "Q 43.359375 56 49.78125 48.890625 \n",
       "Q 56.203125 41.796875 56.203125 29.59375 \n",
       "z\n",
       "M 47.21875 32.234375 \n",
       "Q 47.125 39.59375 43.09375 43.984375 \n",
       "Q 39.0625 48.390625 32.421875 48.390625 \n",
       "Q 24.90625 48.390625 20.390625 44.140625 \n",
       "Q 15.875 39.890625 15.1875 32.171875 \n",
       "z\n",
       "\" id=\"DejaVuSans-1077\"/>\n",
       "      <path d=\"M 18.109375 8.203125 \n",
       "L 18.109375 -20.796875 \n",
       "L 9.078125 -20.796875 \n",
       "L 9.078125 54.6875 \n",
       "L 18.109375 54.6875 \n",
       "L 18.109375 46.390625 \n",
       "Q 20.953125 51.265625 25.265625 53.625 \n",
       "Q 29.59375 56 35.59375 56 \n",
       "Q 45.5625 56 51.78125 48.09375 \n",
       "Q 58.015625 40.1875 58.015625 27.296875 \n",
       "Q 58.015625 14.40625 51.78125 6.484375 \n",
       "Q 45.5625 -1.421875 35.59375 -1.421875 \n",
       "Q 29.59375 -1.421875 25.265625 0.953125 \n",
       "Q 20.953125 3.328125 18.109375 8.203125 \n",
       "z\n",
       "M 48.6875 27.296875 \n",
       "Q 48.6875 37.203125 44.609375 42.84375 \n",
       "Q 40.53125 48.484375 33.40625 48.484375 \n",
       "Q 26.265625 48.484375 22.1875 42.84375 \n",
       "Q 18.109375 37.203125 18.109375 27.296875 \n",
       "Q 18.109375 17.390625 22.1875 11.75 \n",
       "Q 26.265625 6.109375 33.40625 6.109375 \n",
       "Q 40.53125 6.109375 44.609375 11.75 \n",
       "Q 48.6875 17.390625 48.6875 27.296875 \n",
       "z\n",
       "\" id=\"DejaVuSans-1088\"/>\n",
       "      <path d=\"M 9.078125 54.6875 \n",
       "L 18.109375 54.6875 \n",
       "L 18.109375 32.375 \n",
       "L 47.265625 32.375 \n",
       "L 47.265625 54.6875 \n",
       "L 56.296875 54.6875 \n",
       "L 56.296875 0 \n",
       "L 47.265625 0 \n",
       "L 47.265625 25.203125 \n",
       "L 18.109375 25.203125 \n",
       "L 18.109375 0 \n",
       "L 9.078125 0 \n",
       "z\n",
       "\" id=\"DejaVuSans-1085\"/>\n",
       "      <path d=\"M 34.28125 27.484375 \n",
       "Q 23.390625 27.484375 19.1875 25 \n",
       "Q 14.984375 22.515625 14.984375 16.5 \n",
       "Q 14.984375 11.71875 18.140625 8.90625 \n",
       "Q 21.296875 6.109375 26.703125 6.109375 \n",
       "Q 34.1875 6.109375 38.703125 11.40625 \n",
       "Q 43.21875 16.703125 43.21875 25.484375 \n",
       "L 43.21875 27.484375 \n",
       "z\n",
       "M 52.203125 31.203125 \n",
       "L 52.203125 0 \n",
       "L 43.21875 0 \n",
       "L 43.21875 8.296875 \n",
       "Q 40.140625 3.328125 35.546875 0.953125 \n",
       "Q 30.953125 -1.421875 24.3125 -1.421875 \n",
       "Q 15.921875 -1.421875 10.953125 3.296875 \n",
       "Q 6 8.015625 6 15.921875 \n",
       "Q 6 25.140625 12.171875 29.828125 \n",
       "Q 18.359375 34.515625 30.609375 34.515625 \n",
       "L 43.21875 34.515625 \n",
       "L 43.21875 35.40625 \n",
       "Q 43.21875 41.609375 39.140625 45 \n",
       "Q 35.0625 48.390625 27.6875 48.390625 \n",
       "Q 23 48.390625 18.546875 47.265625 \n",
       "Q 14.109375 46.140625 10.015625 43.890625 \n",
       "L 10.015625 52.203125 \n",
       "Q 14.9375 54.109375 19.578125 55.046875 \n",
       "Q 24.21875 56 28.609375 56 \n",
       "Q 40.484375 56 46.34375 49.84375 \n",
       "Q 52.203125 43.703125 52.203125 31.203125 \n",
       "z\n",
       "\" id=\"DejaVuSans-1072\"/>\n",
       "      <path d=\"M 34.46875 29.5 \n",
       "Q 40.53125 28.328125 43.890625 24.75 \n",
       "Q 47.265625 21.1875 47.265625 15.921875 \n",
       "Q 47.265625 7.46875 40.96875 3.015625 \n",
       "Q 34.671875 -1.421875 23.046875 -1.421875 \n",
       "Q 19.140625 -1.421875 15.015625 -0.734375 \n",
       "Q 10.890625 -0.046875 6.5 1.3125 \n",
       "L 6.5 9.671875 \n",
       "Q 9.96875 7.859375 14.109375 6.953125 \n",
       "Q 18.265625 6.0625 22.796875 6.0625 \n",
       "Q 30.171875 6.0625 34.296875 8.796875 \n",
       "Q 38.421875 11.53125 38.421875 15.921875 \n",
       "Q 38.421875 20.21875 34.765625 22.828125 \n",
       "Q 31.109375 25.4375 24.421875 25.4375 \n",
       "L 17.1875 25.4375 \n",
       "L 17.1875 32.859375 \n",
       "L 24.75 32.859375 \n",
       "Q 30.421875 32.859375 33.71875 35.03125 \n",
       "Q 37.015625 37.203125 37.015625 40.625 \n",
       "Q 37.015625 43.75 33.609375 46 \n",
       "Q 30.21875 48.25 24.421875 48.25 \n",
       "Q 20.953125 48.25 17.015625 47.609375 \n",
       "Q 13.09375 46.96875 8.34375 45.5625 \n",
       "L 8.34375 53.71875 \n",
       "Q 13.140625 54.890625 17.28125 55.46875 \n",
       "Q 21.4375 56.0625 25.140625 56.0625 \n",
       "Q 34.71875 56.0625 40.25 52.21875 \n",
       "Q 45.796875 48.390625 45.796875 41.5 \n",
       "Q 45.796875 36.96875 42.859375 33.8125 \n",
       "Q 39.9375 30.671875 34.46875 29.5 \n",
       "z\n",
       "\" id=\"DejaVuSans-1079\"/>\n",
       "      <path d=\"M 9.078125 54.6875 \n",
       "L 22.21875 54.6875 \n",
       "L 37.75 18.0625 \n",
       "L 53.328125 54.6875 \n",
       "L 66.359375 54.6875 \n",
       "L 66.359375 0 \n",
       "L 57.328125 0 \n",
       "L 57.328125 46.09375 \n",
       "L 42.234375 10.5 \n",
       "L 33.25 10.5 \n",
       "L 18.109375 46.09375 \n",
       "L 18.109375 0 \n",
       "L 9.078125 0 \n",
       "z\n",
       "\" id=\"DejaVuSans-1084\"/>\n",
       "      <path d=\"M 41.015625 0 \n",
       "L 41.015625 23 \n",
       "L 24.265625 23 \n",
       "Q 16.796875 23 11.8125 27.640625 \n",
       "Q 7.328125 31.84375 7.328125 40.828125 \n",
       "L 7.328125 54.6875 \n",
       "L 16.3125 54.6875 \n",
       "L 16.3125 41.65625 \n",
       "Q 16.3125 35.9375 18.84375 33.0625 \n",
       "Q 21.4375 30.171875 26.515625 30.171875 \n",
       "L 41.015625 30.171875 \n",
       "L 41.015625 54.6875 \n",
       "L 50 54.6875 \n",
       "L 50 0 \n",
       "z\n",
       "\" id=\"DejaVuSans-1095\"/>\n",
       "      <path d=\"M 61.046875 54.6875 \n",
       "L 70.03125 54.6875 \n",
       "L 70.03125 0 \n",
       "L 61.046875 0 \n",
       "z\n",
       "M 65.546875 56 \n",
       "z\n",
       "M 43.453125 16.21875 \n",
       "Q 43.453125 20.609375 40.25 22.90625 \n",
       "Q 37.0625 25.203125 30.90625 25.203125 \n",
       "L 18.109375 25.203125 \n",
       "L 18.109375 7.171875 \n",
       "L 30.90625 7.171875 \n",
       "Q 37.0625 7.171875 40.25 9.484375 \n",
       "Q 43.453125 11.8125 43.453125 16.21875 \n",
       "z\n",
       "M 9.078125 54.6875 \n",
       "L 18.109375 54.6875 \n",
       "L 18.109375 32.375 \n",
       "L 31.296875 32.375 \n",
       "Q 41.75 32.375 47.390625 28.390625 \n",
       "Q 53.03125 24.421875 53.03125 16.21875 \n",
       "Q 53.03125 8.015625 47.390625 4 \n",
       "Q 41.75 0 31.296875 0 \n",
       "L 9.078125 0 \n",
       "z\n",
       "\" id=\"DejaVuSans-1099\"/>\n",
       "      <path d=\"M 54.890625 54.6875 \n",
       "L 35.109375 28.078125 \n",
       "L 55.90625 0 \n",
       "L 45.3125 0 \n",
       "L 29.390625 21.484375 \n",
       "L 13.484375 0 \n",
       "L 2.875 0 \n",
       "L 24.125 28.609375 \n",
       "L 4.6875 54.6875 \n",
       "L 15.28125 54.6875 \n",
       "L 29.78125 35.203125 \n",
       "L 44.28125 54.6875 \n",
       "z\n",
       "\" id=\"DejaVuSans-1093\"/>\n",
       "      <path d=\"M 31.109375 56 \n",
       "Q 42.828125 56 49.515625 48.375 \n",
       "Q 56.203125 40.765625 56.203125 27.296875 \n",
       "Q 56.203125 13.875 49.515625 6.21875 \n",
       "Q 42.828125 -1.421875 31.109375 -1.421875 \n",
       "Q 19.34375 -1.421875 12.84375 6 \n",
       "Q 6.34375 13.421875 6 27.296875 \n",
       "L 5.71875 38.484375 \n",
       "Q 5.46875 44.28125 5.46875 46.296875 \n",
       "Q 5.46875 54.109375 8.296875 59.859375 \n",
       "Q 12.75 68.890625 20.4375 72.796875 \n",
       "Q 28.125 76.703125 41.015625 76.8125 \n",
       "Q 46.96875 76.859375 49.609375 77.6875 \n",
       "L 52.09375 70.5625 \n",
       "Q 49.703125 69.578125 47.515625 69.53125 \n",
       "L 35.296875 68.703125 \n",
       "Q 29.15625 68.265625 25.4375 66.109375 \n",
       "Q 15.71875 60.40625 14.796875 52.9375 \n",
       "L 14.453125 50.203125 \n",
       "Q 20.796875 56 31.109375 56 \n",
       "z\n",
       "M 31.109375 48.390625 \n",
       "Q 23.875 48.390625 19.671875 42.75 \n",
       "Q 15.484375 37.109375 15.484375 27.296875 \n",
       "Q 15.484375 17.484375 19.65625 11.84375 \n",
       "Q 23.828125 6.203125 31.109375 6.203125 \n",
       "Q 38.28125 6.203125 42.484375 11.859375 \n",
       "Q 46.6875 17.53125 46.6875 27.296875 \n",
       "Q 46.6875 37.015625 42.484375 42.703125 \n",
       "Q 38.28125 48.390625 31.109375 48.390625 \n",
       "z\n",
       "\" id=\"DejaVuSans-1073\"/>\n",
       "      <path d=\"M 43.015625 32.375 \n",
       "Q 53.46875 32.375 59.109375 28.390625 \n",
       "Q 64.75 24.421875 64.75 16.21875 \n",
       "Q 64.75 8.015625 59.109375 4 \n",
       "Q 53.46875 0 43.015625 0 \n",
       "L 20.75 0 \n",
       "L 20.75 47.515625 \n",
       "L 3.03125 47.515625 \n",
       "L 3.03125 54.6875 \n",
       "L 29.78125 54.6875 \n",
       "L 29.78125 32.375 \n",
       "z\n",
       "M 42.625 25.203125 \n",
       "L 29.78125 25.203125 \n",
       "L 29.78125 7.171875 \n",
       "L 42.625 7.171875 \n",
       "Q 48.78125 7.171875 51.96875 9.484375 \n",
       "Q 55.171875 11.8125 55.171875 16.21875 \n",
       "Q 55.171875 20.609375 51.96875 22.90625 \n",
       "Q 48.78125 25.203125 42.625 25.203125 \n",
       "z\n",
       "\" id=\"DejaVuSans-1098\"/>\n",
       "      <path d=\"M 9.078125 54.6875 \n",
       "L 18.015625 54.6875 \n",
       "L 18.015625 29 \n",
       "L 43.359375 54.6875 \n",
       "L 54.390625 54.6875 \n",
       "L 33.5 33.546875 \n",
       "L 57.078125 0 \n",
       "L 47.015625 0 \n",
       "L 27.640625 27.59375 \n",
       "L 18.015625 17.828125 \n",
       "L 18.015625 0 \n",
       "L 9.078125 0 \n",
       "z\n",
       "\" id=\"DejaVuSans-1082\"/>\n",
       "      <path d=\"M 2.9375 54.6875 \n",
       "L 55.328125 54.6875 \n",
       "L 55.328125 47.515625 \n",
       "L 33.546875 47.515625 \n",
       "L 33.546875 0 \n",
       "L 24.703125 0 \n",
       "L 24.703125 47.515625 \n",
       "L 2.9375 47.515625 \n",
       "z\n",
       "\" id=\"DejaVuSans-1090\"/>\n",
       "     </defs>\n",
       "     <g transform=\"translate(16.5225 299.726719)rotate(-90)scale(0.12 -0.12)\">\n",
       "      <use xlink:href=\"#DejaVuSans-1044\"/>\n",
       "      <use x=\"78.125\" xlink:href=\"#DejaVuSans-1086\"/>\n",
       "      <use x=\"139.306641\" xlink:href=\"#DejaVuSans-1083\"/>\n",
       "      <use x=\"203.222656\" xlink:href=\"#DejaVuSans-1103\"/>\n",
       "      <use x=\"263.378906\" xlink:href=\"#DejaVuSans-32\"/>\n",
       "      <use x=\"295.166016\" xlink:href=\"#DejaVuSans-1074\"/>\n",
       "      <use x=\"354.101562\" xlink:href=\"#DejaVuSans-1077\"/>\n",
       "      <use x=\"415.625\" xlink:href=\"#DejaVuSans-1088\"/>\n",
       "      <use x=\"479.101562\" xlink:href=\"#DejaVuSans-1085\"/>\n",
       "      <use x=\"544.482422\" xlink:href=\"#DejaVuSans-1086\"/>\n",
       "      <use x=\"605.664062\" xlink:href=\"#DejaVuSans-32\"/>\n",
       "      <use x=\"637.451172\" xlink:href=\"#DejaVuSans-1088\"/>\n",
       "      <use x=\"700.927734\" xlink:href=\"#DejaVuSans-1072\"/>\n",
       "      <use x=\"762.207031\" xlink:href=\"#DejaVuSans-1079\"/>\n",
       "      <use x=\"815.380859\" xlink:href=\"#DejaVuSans-1084\"/>\n",
       "      <use x=\"890.820312\" xlink:href=\"#DejaVuSans-1077\"/>\n",
       "      <use x=\"952.34375\" xlink:href=\"#DejaVuSans-1095\"/>\n",
       "      <use x=\"1011.425781\" xlink:href=\"#DejaVuSans-1077\"/>\n",
       "      <use x=\"1072.949219\" xlink:href=\"#DejaVuSans-1085\"/>\n",
       "      <use x=\"1138.330078\" xlink:href=\"#DejaVuSans-1085\"/>\n",
       "      <use x=\"1203.710938\" xlink:href=\"#DejaVuSans-1099\"/>\n",
       "      <use x=\"1282.666016\" xlink:href=\"#DejaVuSans-1093\"/>\n",
       "      <use x=\"1341.845703\" xlink:href=\"#DejaVuSans-32\"/>\n",
       "      <use x=\"1373.632812\" xlink:href=\"#DejaVuSans-1086\"/>\n",
       "      <use x=\"1434.814453\" xlink:href=\"#DejaVuSans-1073\"/>\n",
       "      <use x=\"1496.484375\" xlink:href=\"#DejaVuSans-1098\"/>\n",
       "      <use x=\"1567.138672\" xlink:href=\"#DejaVuSans-1077\"/>\n",
       "      <use x=\"1628.662109\" xlink:href=\"#DejaVuSans-1082\"/>\n",
       "      <use x=\"1689.0625\" xlink:href=\"#DejaVuSans-1090\"/>\n",
       "      <use x=\"1747.314453\" xlink:href=\"#DejaVuSans-1086\"/>\n",
       "      <use x=\"1808.496094\" xlink:href=\"#DejaVuSans-1074\"/>\n",
       "     </g>\n",
       "    </g>\n",
       "   </g>\n",
       "   <g id=\"patch_3\">\n",
       "    <path d=\"M 45.92125 350.757656 \n",
       "L 45.92125 24.597656 \n",
       "\" style=\"fill:none;stroke:#000000;stroke-linecap:square;stroke-linejoin:miter;stroke-width:0.8;\"/>\n",
       "   </g>\n",
       "   <g id=\"patch_4\">\n",
       "    <path d=\"M 548.12125 350.757656 \n",
       "L 548.12125 24.597656 \n",
       "\" style=\"fill:none;stroke:#000000;stroke-linecap:square;stroke-linejoin:miter;stroke-width:0.8;\"/>\n",
       "   </g>\n",
       "   <g id=\"patch_5\">\n",
       "    <path d=\"M 45.92125 350.757656 \n",
       "L 548.12125 350.757656 \n",
       "\" style=\"fill:none;stroke:#000000;stroke-linecap:square;stroke-linejoin:miter;stroke-width:0.8;\"/>\n",
       "   </g>\n",
       "   <g id=\"patch_6\">\n",
       "    <path d=\"M 45.92125 24.597656 \n",
       "L 548.12125 24.597656 \n",
       "\" style=\"fill:none;stroke:#000000;stroke-linecap:square;stroke-linejoin:miter;stroke-width:0.8;\"/>\n",
       "   </g>\n",
       "   <g id=\"text_17\">\n",
       "    <!-- Зав-ть доли верных ответов от коэффициента alpha -->\n",
       "    <defs>\n",
       "     <path d=\"M 28.5625 74.21875 \n",
       "Q 40.578125 74.21875 48.1875 69.109375 \n",
       "Q 55.8125 64.015625 55.8125 55.328125 \n",
       "Q 55.8125 49.265625 52.34375 45.09375 \n",
       "Q 48.875 40.921875 42.484375 39.3125 \n",
       "Q 49.5625 37.796875 53.53125 33 \n",
       "Q 57.515625 28.21875 57.515625 21.1875 \n",
       "Q 57.515625 9.96875 48.84375 4.265625 \n",
       "Q 40.1875 -1.421875 28.5625 -1.421875 \n",
       "Q 22.609375 -1.421875 15.671875 0.1875 \n",
       "Q 8.734375 1.8125 6.59375 3.171875 \n",
       "L 6.59375 13.328125 \n",
       "Q 14.0625 8.984375 18.1875 7.9375 \n",
       "Q 22.3125 6.890625 28.375 6.890625 \n",
       "Q 37.546875 6.890625 42.625 10.40625 \n",
       "Q 47.703125 13.921875 47.703125 21.1875 \n",
       "Q 47.703125 27.640625 43.1875 31.265625 \n",
       "Q 38.671875 34.90625 29.15625 34.90625 \n",
       "L 19.1875 34.90625 \n",
       "L 19.1875 43.015625 \n",
       "L 29.546875 43.015625 \n",
       "Q 38.28125 43.015625 42.140625 45.921875 \n",
       "Q 46 48.828125 46 54.296875 \n",
       "Q 46 59.90625 42.015625 62.90625 \n",
       "Q 38.03125 65.921875 28.375 65.921875 \n",
       "Q 21.828125 65.921875 19.578125 65.328125 \n",
       "Q 17.328125 64.75 7.328125 60.984375 \n",
       "L 7.328125 70.609375 \n",
       "Q 12.84375 72.5625 18.59375 73.390625 \n",
       "Q 24.359375 74.21875 28.5625 74.21875 \n",
       "z\n",
       "\" id=\"DejaVuSans-1047\"/>\n",
       "     <path d=\"M 4.890625 31.390625 \n",
       "L 31.203125 31.390625 \n",
       "L 31.203125 23.390625 \n",
       "L 4.890625 23.390625 \n",
       "z\n",
       "\" id=\"DejaVuSans-45\"/>\n",
       "     <path d=\"M 43.453125 16.21875 \n",
       "Q 43.453125 20.609375 40.25 22.90625 \n",
       "Q 37.0625 25.203125 30.90625 25.203125 \n",
       "L 18.109375 25.203125 \n",
       "L 18.109375 7.171875 \n",
       "L 30.90625 7.171875 \n",
       "Q 37.0625 7.171875 40.25 9.484375 \n",
       "Q 43.453125 11.8125 43.453125 16.21875 \n",
       "z\n",
       "M 9.078125 54.6875 \n",
       "L 18.109375 54.6875 \n",
       "L 18.109375 32.375 \n",
       "L 31.296875 32.375 \n",
       "Q 41.75 32.375 47.390625 28.390625 \n",
       "Q 53.03125 24.421875 53.03125 16.21875 \n",
       "Q 53.03125 8.015625 47.390625 4 \n",
       "Q 41.75 0 31.296875 0 \n",
       "L 9.078125 0 \n",
       "z\n",
       "\" id=\"DejaVuSans-1100\"/>\n",
       "     <path d=\"M 21.625 7.171875 \n",
       "L 47.703125 7.171875 \n",
       "L 47.703125 47.515625 \n",
       "L 28.8125 47.515625 \n",
       "L 28.8125 40.671875 \n",
       "Q 28.8125 20.5625 23.046875 9.8125 \n",
       "z\n",
       "M 8.59375 7.171875 \n",
       "Q 13.03125 9.125 14.984375 13.28125 \n",
       "Q 19.78125 23.578125 19.78125 44.34375 \n",
       "L 19.78125 54.6875 \n",
       "L 56.734375 54.6875 \n",
       "L 56.734375 7.171875 \n",
       "L 63.921875 7.171875 \n",
       "L 63.921875 -13.8125 \n",
       "L 56.734375 -13.8125 \n",
       "L 56.734375 0 \n",
       "L 12.40625 0 \n",
       "L 12.40625 -13.8125 \n",
       "L 5.21875 -13.8125 \n",
       "L 5.21875 7.171875 \n",
       "z\n",
       "\" id=\"DejaVuSans-1076\"/>\n",
       "     <path d=\"M 55.90625 54.6875 \n",
       "L 55.90625 0 \n",
       "L 46.96875 0 \n",
       "L 46.96875 43.890625 \n",
       "L 20.609375 0 \n",
       "L 9.078125 0 \n",
       "L 9.078125 54.6875 \n",
       "L 18.015625 54.6875 \n",
       "L 18.015625 10.890625 \n",
       "L 44.34375 54.6875 \n",
       "z\n",
       "\" id=\"DejaVuSans-1080\"/>\n",
       "     <path d=\"M 5.515625 10.40625 \n",
       "Q 13.234375 6.203125 20.90625 6.203125 \n",
       "Q 28.078125 6.203125 33.203125 10.375 \n",
       "Q 38.328125 14.546875 39.265625 25.203125 \n",
       "L 11.53125 25.203125 \n",
       "L 11.53125 32.375 \n",
       "L 38.96875 32.375 \n",
       "Q 38.375 37.5 34.484375 42.9375 \n",
       "Q 30.609375 48.390625 20.90625 48.390625 \n",
       "Q 13.375 48.390625 5.515625 44.1875 \n",
       "L 5.515625 52.59375 \n",
       "Q 13.1875 56 21.296875 56 \n",
       "Q 34.078125 56 41.421875 48.265625 \n",
       "Q 48.78125 40.53125 48.78125 27.296875 \n",
       "Q 48.78125 14.109375 41.625 6.34375 \n",
       "Q 34.46875 -1.421875 21.921875 -1.421875 \n",
       "Q 12.703125 -1.421875 5.515625 2.09375 \n",
       "z\n",
       "\" id=\"DejaVuSans-1101\"/>\n",
       "     <path d=\"M 14.796875 27.296875 \n",
       "Q 14.796875 15.828125 18.328125 10.96875 \n",
       "Q 21.875 6.109375 27.875 6.109375 \n",
       "Q 32.671875 6.109375 38.234375 14.3125 \n",
       "L 38.234375 40.28125 \n",
       "Q 32.671875 48.484375 27.875 48.484375 \n",
       "Q 21.875 48.484375 18.328125 43.625 \n",
       "Q 14.796875 38.765625 14.796875 27.296875 \n",
       "z\n",
       "M 38.234375 -20.796875 \n",
       "L 38.234375 6.984375 \n",
       "Q 35.453125 2.390625 32.25 0.484375 \n",
       "Q 29.046875 -1.421875 25 -1.421875 \n",
       "Q 16.84375 -1.421875 11.15625 6.125 \n",
       "Q 5.46875 13.671875 5.46875 27.09375 \n",
       "Q 5.46875 40.53125 11.15625 48.265625 \n",
       "Q 16.84375 56 25 56 \n",
       "Q 29.046875 56 32.25 54.140625 \n",
       "Q 35.453125 52.296875 38.234375 47.703125 \n",
       "L 38.234375 72.90625 \n",
       "L 47.265625 72.90625 \n",
       "L 47.265625 47.703125 \n",
       "Q 50.046875 52.296875 53.25 54.140625 \n",
       "Q 56.453125 56 60.5 56 \n",
       "Q 68.65625 56 74.34375 48.265625 \n",
       "Q 80.03125 40.53125 80.03125 27.09375 \n",
       "Q 80.03125 13.671875 74.34375 6.125 \n",
       "Q 68.65625 -1.421875 60.5 -1.421875 \n",
       "Q 56.453125 -1.421875 53.25 0.484375 \n",
       "Q 50.046875 2.390625 47.265625 6.984375 \n",
       "L 47.265625 -20.796875 \n",
       "z\n",
       "M 70.703125 27.296875 \n",
       "Q 70.703125 38.765625 67.15625 43.625 \n",
       "Q 63.625 48.484375 57.625 48.484375 \n",
       "Q 52.828125 48.484375 47.265625 40.28125 \n",
       "L 47.265625 14.3125 \n",
       "Q 52.828125 6.109375 57.625 6.109375 \n",
       "Q 63.625 6.109375 67.15625 10.96875 \n",
       "Q 70.703125 15.828125 70.703125 27.296875 \n",
       "z\n",
       "\" id=\"DejaVuSans-1092\"/>\n",
       "     <path d=\"M 56.296875 0 \n",
       "L 9.078125 0 \n",
       "L 9.078125 54.6875 \n",
       "L 18.109375 54.6875 \n",
       "L 18.109375 7.171875 \n",
       "L 47.265625 7.171875 \n",
       "L 47.265625 54.6875 \n",
       "L 56.296875 54.6875 \n",
       "L 56.296875 7.171875 \n",
       "L 63.484375 7.171875 \n",
       "L 63.484375 -13.8125 \n",
       "L 56.296875 -13.8125 \n",
       "z\n",
       "\" id=\"DejaVuSans-1094\"/>\n",
       "    </defs>\n",
       "    <g transform=\"translate(88.381797 18.597656)scale(0.15 -0.15)\">\n",
       "     <use xlink:href=\"#DejaVuSans-1047\"/>\n",
       "     <use x=\"64.111328\" xlink:href=\"#DejaVuSans-1072\"/>\n",
       "     <use x=\"125.390625\" xlink:href=\"#DejaVuSans-1074\"/>\n",
       "     <use x=\"184.326172\" xlink:href=\"#DejaVuSans-45\"/>\n",
       "     <use x=\"220.410156\" xlink:href=\"#DejaVuSans-1090\"/>\n",
       "     <use x=\"278.662109\" xlink:href=\"#DejaVuSans-1100\"/>\n",
       "     <use x=\"337.597656\" xlink:href=\"#DejaVuSans-32\"/>\n",
       "     <use x=\"369.384766\" xlink:href=\"#DejaVuSans-1076\"/>\n",
       "     <use x=\"438.525391\" xlink:href=\"#DejaVuSans-1086\"/>\n",
       "     <use x=\"499.707031\" xlink:href=\"#DejaVuSans-1083\"/>\n",
       "     <use x=\"563.623047\" xlink:href=\"#DejaVuSans-1080\"/>\n",
       "     <use x=\"628.613281\" xlink:href=\"#DejaVuSans-32\"/>\n",
       "     <use x=\"660.400391\" xlink:href=\"#DejaVuSans-1074\"/>\n",
       "     <use x=\"719.335938\" xlink:href=\"#DejaVuSans-1077\"/>\n",
       "     <use x=\"780.859375\" xlink:href=\"#DejaVuSans-1088\"/>\n",
       "     <use x=\"844.335938\" xlink:href=\"#DejaVuSans-1085\"/>\n",
       "     <use x=\"909.716797\" xlink:href=\"#DejaVuSans-1099\"/>\n",
       "     <use x=\"988.671875\" xlink:href=\"#DejaVuSans-1093\"/>\n",
       "     <use x=\"1047.851562\" xlink:href=\"#DejaVuSans-32\"/>\n",
       "     <use x=\"1079.638672\" xlink:href=\"#DejaVuSans-1086\"/>\n",
       "     <use x=\"1140.820312\" xlink:href=\"#DejaVuSans-1090\"/>\n",
       "     <use x=\"1199.072266\" xlink:href=\"#DejaVuSans-1074\"/>\n",
       "     <use x=\"1258.007812\" xlink:href=\"#DejaVuSans-1077\"/>\n",
       "     <use x=\"1319.53125\" xlink:href=\"#DejaVuSans-1090\"/>\n",
       "     <use x=\"1377.783203\" xlink:href=\"#DejaVuSans-1086\"/>\n",
       "     <use x=\"1438.964844\" xlink:href=\"#DejaVuSans-1074\"/>\n",
       "     <use x=\"1497.900391\" xlink:href=\"#DejaVuSans-32\"/>\n",
       "     <use x=\"1529.6875\" xlink:href=\"#DejaVuSans-1086\"/>\n",
       "     <use x=\"1590.869141\" xlink:href=\"#DejaVuSans-1090\"/>\n",
       "     <use x=\"1649.121094\" xlink:href=\"#DejaVuSans-32\"/>\n",
       "     <use x=\"1680.908203\" xlink:href=\"#DejaVuSans-1082\"/>\n",
       "     <use x=\"1741.308594\" xlink:href=\"#DejaVuSans-1086\"/>\n",
       "     <use x=\"1802.490234\" xlink:href=\"#DejaVuSans-1101\"/>\n",
       "     <use x=\"1857.373047\" xlink:href=\"#DejaVuSans-1092\"/>\n",
       "     <use x=\"1942.871094\" xlink:href=\"#DejaVuSans-1092\"/>\n",
       "     <use x=\"2028.369141\" xlink:href=\"#DejaVuSans-1080\"/>\n",
       "     <use x=\"2093.359375\" xlink:href=\"#DejaVuSans-1094\"/>\n",
       "     <use x=\"2161.425781\" xlink:href=\"#DejaVuSans-1080\"/>\n",
       "     <use x=\"2226.416016\" xlink:href=\"#DejaVuSans-1077\"/>\n",
       "     <use x=\"2287.939453\" xlink:href=\"#DejaVuSans-1085\"/>\n",
       "     <use x=\"2353.320312\" xlink:href=\"#DejaVuSans-1090\"/>\n",
       "     <use x=\"2411.572266\" xlink:href=\"#DejaVuSans-1072\"/>\n",
       "     <use x=\"2472.851562\" xlink:href=\"#DejaVuSans-32\"/>\n",
       "     <use x=\"2504.638672\" xlink:href=\"#DejaVuSans-97\"/>\n",
       "     <use x=\"2565.917969\" xlink:href=\"#DejaVuSans-108\"/>\n",
       "     <use x=\"2593.701172\" xlink:href=\"#DejaVuSans-112\"/>\n",
       "     <use x=\"2657.177734\" xlink:href=\"#DejaVuSans-104\"/>\n",
       "     <use x=\"2720.556641\" xlink:href=\"#DejaVuSans-97\"/>\n",
       "    </g>\n",
       "   </g>\n",
       "   <g id=\"legend_1\">\n",
       "    <g id=\"patch_7\">\n",
       "     <path d=\"M 52.92125 76.632031 \n",
       "L 150.815 76.632031 \n",
       "Q 152.815 76.632031 152.815 74.632031 \n",
       "L 152.815 31.597656 \n",
       "Q 152.815 29.597656 150.815 29.597656 \n",
       "L 52.92125 29.597656 \n",
       "Q 50.92125 29.597656 50.92125 31.597656 \n",
       "L 50.92125 74.632031 \n",
       "Q 50.92125 76.632031 52.92125 76.632031 \n",
       "z\n",
       "\" style=\"fill:#ffffff;opacity:0.8;stroke:#cccccc;stroke-linejoin:miter;\"/>\n",
       "    </g>\n",
       "    <g id=\"PathCollection_4\">\n",
       "     <g>\n",
       "      <use style=\"fill:#ff0000;stroke:#ff0000;\" x=\"64.92125\" xlink:href=\"#m469c19697d\" y=\"38.571094\"/>\n",
       "     </g>\n",
       "    </g>\n",
       "    <g id=\"text_18\">\n",
       "     <!-- вредный -->\n",
       "     <defs>\n",
       "      <path d=\"M 55.90625 54.6875 \n",
       "L 55.90625 0 \n",
       "L 46.96875 0 \n",
       "L 46.96875 43.890625 \n",
       "L 20.609375 0 \n",
       "L 9.078125 0 \n",
       "L 9.078125 54.6875 \n",
       "L 18.015625 54.6875 \n",
       "L 18.015625 10.890625 \n",
       "L 44.34375 54.6875 \n",
       "z\n",
       "M 17.21875 75.515625 \n",
       "L 22.984375 75.515625 \n",
       "Q 23.515625 71.859375 25.875 70.015625 \n",
       "Q 28.25 68.1875 32.5 68.1875 \n",
       "Q 36.703125 68.1875 39.046875 70 \n",
       "Q 41.390625 71.8125 42.015625 75.515625 \n",
       "L 47.78125 75.515625 \n",
       "Q 47.296875 68.53125 43.4375 65.015625 \n",
       "Q 39.578125 61.5 32.5 61.5 \n",
       "Q 25.421875 61.5 21.5625 65.015625 \n",
       "Q 17.703125 68.53125 17.21875 75.515625 \n",
       "z\n",
       "\" id=\"DejaVuSans-1081\"/>\n",
       "     </defs>\n",
       "     <g transform=\"translate(82.92125 41.196094)scale(0.1 -0.1)\">\n",
       "      <use xlink:href=\"#DejaVuSans-1074\"/>\n",
       "      <use x=\"58.935547\" xlink:href=\"#DejaVuSans-1088\"/>\n",
       "      <use x=\"122.412109\" xlink:href=\"#DejaVuSans-1077\"/>\n",
       "      <use x=\"183.935547\" xlink:href=\"#DejaVuSans-1076\"/>\n",
       "      <use x=\"253.076172\" xlink:href=\"#DejaVuSans-1085\"/>\n",
       "      <use x=\"318.457031\" xlink:href=\"#DejaVuSans-1099\"/>\n",
       "      <use x=\"397.412109\" xlink:href=\"#DejaVuSans-1081\"/>\n",
       "     </g>\n",
       "    </g>\n",
       "    <g id=\"PathCollection_5\">\n",
       "     <g>\n",
       "      <use style=\"fill:#ffff00;stroke:#ffff00;\" x=\"64.92125\" xlink:href=\"#m9a22cc26d3\" y=\"53.249219\"/>\n",
       "     </g>\n",
       "    </g>\n",
       "    <g id=\"text_19\">\n",
       "     <!-- нормальный -->\n",
       "     <g transform=\"translate(82.92125 55.874219)scale(0.1 -0.1)\">\n",
       "      <use xlink:href=\"#DejaVuSans-1085\"/>\n",
       "      <use x=\"65.380859\" xlink:href=\"#DejaVuSans-1086\"/>\n",
       "      <use x=\"126.5625\" xlink:href=\"#DejaVuSans-1088\"/>\n",
       "      <use x=\"190.039062\" xlink:href=\"#DejaVuSans-1084\"/>\n",
       "      <use x=\"265.478516\" xlink:href=\"#DejaVuSans-1072\"/>\n",
       "      <use x=\"326.757812\" xlink:href=\"#DejaVuSans-1083\"/>\n",
       "      <use x=\"390.673828\" xlink:href=\"#DejaVuSans-1100\"/>\n",
       "      <use x=\"449.609375\" xlink:href=\"#DejaVuSans-1085\"/>\n",
       "      <use x=\"514.990234\" xlink:href=\"#DejaVuSans-1099\"/>\n",
       "      <use x=\"593.945312\" xlink:href=\"#DejaVuSans-1081\"/>\n",
       "     </g>\n",
       "    </g>\n",
       "    <g id=\"PathCollection_6\">\n",
       "     <g>\n",
       "      <use style=\"fill:#008000;stroke:#008000;\" x=\"64.92125\" xlink:href=\"#m32191561d2\" y=\"67.927344\"/>\n",
       "     </g>\n",
       "    </g>\n",
       "    <g id=\"text_20\">\n",
       "     <!-- полезный -->\n",
       "     <defs>\n",
       "      <path d=\"M 56.296875 54.6875 \n",
       "L 56.296875 0 \n",
       "L 47.265625 0 \n",
       "L 47.265625 47.515625 \n",
       "L 18.109375 47.515625 \n",
       "L 18.109375 0 \n",
       "L 9.078125 0 \n",
       "L 9.078125 54.6875 \n",
       "z\n",
       "\" id=\"DejaVuSans-1087\"/>\n",
       "     </defs>\n",
       "     <g transform=\"translate(82.92125 70.552344)scale(0.1 -0.1)\">\n",
       "      <use xlink:href=\"#DejaVuSans-1087\"/>\n",
       "      <use x=\"65.380859\" xlink:href=\"#DejaVuSans-1086\"/>\n",
       "      <use x=\"126.5625\" xlink:href=\"#DejaVuSans-1083\"/>\n",
       "      <use x=\"190.478516\" xlink:href=\"#DejaVuSans-1077\"/>\n",
       "      <use x=\"252.001953\" xlink:href=\"#DejaVuSans-1079\"/>\n",
       "      <use x=\"305.175781\" xlink:href=\"#DejaVuSans-1085\"/>\n",
       "      <use x=\"370.556641\" xlink:href=\"#DejaVuSans-1099\"/>\n",
       "      <use x=\"449.511719\" xlink:href=\"#DejaVuSans-1081\"/>\n",
       "     </g>\n",
       "    </g>\n",
       "   </g>\n",
       "  </g>\n",
       " </g>\n",
       " <defs>\n",
       "  <clipPath id=\"p7ade19e276\">\n",
       "   <rect height=\"326.16\" width=\"502.2\" x=\"45.92125\" y=\"24.597656\"/>\n",
       "  </clipPath>\n",
       " </defs>\n",
       "</svg>\n"
      ],
      "text/plain": [
       "<Figure size 648x432 with 1 Axes>"
      ]
     },
     "metadata": {
      "needs_background": "light"
     },
     "output_type": "display_data"
    }
   ],
   "source": [
    "import matplotlib\n",
    "import random\n",
    "import matplotlib.pyplot as plt\n",
    "\n",
    "%matplotlib inline\n",
    "%config InlineBackend.figure_format = 'svg' \n",
    "\n",
    "colors = ['red', 'yellow', 'green']\n",
    "label = ['вредный', 'нормальный', 'полезный']\n",
    "\n",
    "#plt.title('kek')\n",
    "plt.figure(figsize=(9, 6))\n",
    "for l in np.unique(labels):\n",
    "    plt.scatter(alpha[labels==l], frac_true[labels==l], c=colors[l-1], s=10, label=label[l-1])\n",
    "plt.grid(True)\n",
    "plt.title(\"Зав-ть доли верных ответов от коэффициента alpha\", fontsize=15)\n",
    "plt.xlabel(\"alpha\", fontsize=12)\n",
    "plt.ylabel(\"Доля верно размеченных объектов\", fontsize=12)\n",
    "plt.xticks(np.arange(-5, 5, 1))\n",
    "plt.legend();"
   ]
  },
  {
   "cell_type": "markdown",
   "metadata": {
    "id": "PoJxYs7tpscN"
   },
   "source": [
    "**Ответ:** Значения $\\alpha$ отображают качество эксперта. Среди экспертов наблюдается 3 кластера в зависимости от значения качества $\\alpha$ :\n",
    "\n",
    "* Первая группа состоит из вредных экспертов, которые хорошо умеют решать поставленные задачи, но по каким-либо причинам делают разметку неправильно. У таких \"экспертов\" $\\alpha$ отрицательное.\n",
    "* Вторая группа экспертов показывает результат лучше, чем случайное угадывание, но качество разметки оставляет желать лучшего. У этой группы экспертов качество лежит между 0 и 1.\n",
    "* Третий кластер экспертов самый надежный и отличается от других большей долей правильных ответов. У этого кластера экспертов $\\alpha > 1$."
   ]
  },
  {
   "cell_type": "markdown",
   "metadata": {
    "id": "R59prinxpscO"
   },
   "source": [
    "**Задание 4. (бонус, 1 балл)**  Как уже было замечено выше, модели не важно, какой класс 1, а какой 0. Скажем, если все эксперты оказались максимально противными и ставят метку с точностью наоборот, то у вас будет полная согласованность между экспертами, при этом невозможно понять правильно они разметили выборку или нет, смотря только на такую разметку. Чтобы избежать этого, можно включать в выборку вопрос с заведомо известным ответом, тогда вы сможете определить, ставит ли эксперт специально неверные метки.\n",
    "\n",
    "Чтобы обощить данную модель на случай заданий с заведомо известной меткой, достоточно не делать для них E-шаг, а всегда полагать апостериорное распределение вырожденным в истинном классе. \n",
    "\n",
    "* Реализуйте данную модель и используйте истинную разметку *для нескольких* задач из обучения. \n",
    "* **(?)**  Сравните модифицированный алгоритм с обычным. \n",
    "* **(?)** Проинтерпретируйте полученные результаты."
   ]
  },
  {
   "cell_type": "markdown",
   "metadata": {
    "id": "alPBsMcbpscO"
   },
   "source": [
    "**Подсказка:**\n",
    "* Как можно сравнить, что модифицированный алгоритм действительно \"лучше\" обычного: запускаем обычный и модифицированный много раз (например, 100). Для каждой версии считаем распределение полученных accuracy_score. Если все сделано верно, то в модифицированной версии доля больших значений accuracy должна быть выше, чем низких (это как раз и есть сигнал о перепутывании классов), а в обычной версии -- доли должны быть примерно равны. **Для возможности получения полного балла мы ожидаем от вас какого-то такого или похожего сравнения**"
   ]
  },
  {
   "cell_type": "markdown",
   "metadata": {
    "id": "r5tgdd61pscO"
   },
   "source": [
    "---"
   ]
  },
  {
   "cell_type": "code",
   "execution_count": null,
   "metadata": {
    "id": "7Vfz5Ac1pscP"
   },
   "outputs": [],
   "source": [
    "# (∩ᄑ_ᄑ)⊃━☆ﾟ*･｡*"
   ]
  },
  {
   "cell_type": "markdown",
   "metadata": {
    "id": "GpXy5R6RpscP"
   },
   "source": [
    "# Выравнивание слов (Word Alignment)"
   ]
  },
  {
   "cell_type": "markdown",
   "metadata": {
    "id": "Snkl26t-pscP"
   },
   "source": [
    "EM-алгоритм также применяют на практике для настройки параметров модели выравнивания слов, более сложные модификации которой используются в статистическом машинном переводе. Мы не будем подробно обсуждать применение word alignment для перевода и ограничимся следующей целью: пусть у нас есть параллельный корпус из предложений на исходном языке и их переводов на целевой язык (в этом задании используются английский и чешский соответственно). \n",
    "\n",
    "Первая задача — определить с помощью этого корпуса, как переводится каждое отдельное слово на целевом языке. Вторая задача — для произвольной пары из предложения и его перевода установить, переводом какого слова в исходном предложении является каждое слово в целевом предложении. Оказывается, у обеих задач существует элегантное и эффективное решение при введении правильной вероятностной модели: в этой части задания вам предстоит его реализовать и оценить результаты работы. Но обо всём по порядку :)\n",
    "\n",
    "---\n",
    "\n",
    "Перед тем, как заниматься машинным обучением, давайте разберёмся с данными и метриками в интересующей нас задаче. В ячейке ниже загружается и разархивируется параллельный английско-чешский корпус, в котором есть разметка выравнивания слов. Нетрудно заметить, что формат XML-файла, использованный его авторами, не вполне стандартный: нет готовой команды , которая позволила бы получить список пар предложений вместе с выравниваниями. Это значит, что нужно разобраться с форматом и написать парсер самостоятельно, используя встроенные средства Python, например, модуль [xml](https://docs.python.org/3.7/library/xml.html).\n",
    "\n",
    "**Подсказка:**\n",
    "* Не обязательно парсить только через xml, если хотите, можете написать парсинг сами"
   ]
  },
  {
   "cell_type": "code",
   "execution_count": 2,
   "metadata": {
    "colab": {
     "base_uri": "https://localhost:8080/"
    },
    "id": "efECPkTBpscQ",
    "outputId": "bb554e9e-221b-42d0-b038-e644f7c3463a"
   },
   "outputs": [
    {
     "name": "stdout",
     "output_type": "stream",
     "text": [
      "<?xml version=\"1.0\" encoding=\"utf-8\" ?>\n",
      "<sentences>\n",
      "<s id=\"project_syndicate_bacchetta1-s1\">\n",
      "  <english>Are the Dollar 's Days Numbered ?</english>\n",
      "  <czech>Jsou dny dolaru sečteny ?</czech>\n",
      "  <sure>1-1 3-3 5-2 6-4 7-5</sure>\n",
      "  <possible>2-2 4-3</possible>\n",
      "</s>\n",
      "<s id=\"project_syndicate_bacchetta1-s2\">\n",
      "  <english>Philippe Bacchetta and Eric van Wincoop</english>\n",
      "  <czech>Philippe Bacchetta and Eric van Wincoop</czech>\n",
      "  <sure>1-1 2-2 3-3 4-4 5-5 6-6</sure>\n",
      "  <possible></possible>\n",
      "</s>\n",
      "<s id=\"project_syndicate_bacchetta1-s3\">\n",
      "  <english>A year ago , the dollar bestrode the world like a colossus .</english>\n",
      "  <czech>Ještě před rokem dolar dominoval světu jako imperátor .</czech>\n",
      "  <sure>10-7 12-8 13-9 2-3 3-2 6-4 7-5 9-6</sure>\n",
      "  <possible>1-3 11-8 3-1 5-4 8-6</possible>\n",
      "</s>\n"
     ]
    }
   ],
   "source": [
    "%%bash\n",
    "wget -q https://lindat.mff.cuni.cz/repository/xmlui/bitstream/handle/11234/1-1804/CzEnAli_1.0.tar.gz -O CzEnAli_1.0.tar.gz\n",
    "mkdir -p data\n",
    "tar -xzf CzEnAli_1.0.tar.gz -C data/\n",
    "head -n 20 data/merged_data/project_syndicate/project_syndicate_bacchetta1.wa"
   ]
  },
  {
   "cell_type": "markdown",
   "metadata": {
    "id": "Q2DBomNspscT"
   },
   "source": [
    "**Задание -2. (0.5 балла)** Реализуйте функцию `extract_sentences`, которая принимает на вход путь к файлу с XML-разметкой, используемой в этом датасете, и возвращает список параллельных предложений, а также список из «уверенных» (sure) и «возможных» (possible) пар выравниваний. Отправьте вашу реализацию в Яндекс.Контест, чтобы убедиться в её корректности; в следующей ячейке ноутбука соберите все пары размеченных предложений из датасета в два списка `all_sentences` (список `SentencePair`) и `all_targets` (список LabeledAlignment)."
   ]
  },
  {
   "cell_type": "markdown",
   "metadata": {
    "id": "-cwQAD5GpscT"
   },
   "source": [
    "**Подсказка:**\n",
    "* Брать файлы нужно из всей папки data конструкцией наподобие `for file in glob.glob('data/*/*/*.wa')`\n",
    "* Возможно у вас не будут проходить тесты, но вы не будете понимать, в чем же дело:) Попробуйте в таком случае заменить & на `&amp;` или \n",
    "`&#038;`\n",
    "https://stackoverflow.com/questions/17423495/how-to-solve-ampersand-conversion-issue-in-xml\n"
   ]
  },
  {
   "cell_type": "markdown",
   "metadata": {
    "id": "_D4f74MzpscT"
   },
   "source": [
    "---"
   ]
  },
  {
   "cell_type": "markdown",
   "metadata": {
    "id": "xom025VbpscU"
   },
   "source": [
    "**Замечание:** \n",
    "* **Полностью проходящая все тесты посылка в этом заданиии дает 0.5 балла. За непроходящий хотя бы 1 тест вы получите 0 баллов.**\n",
    "* Здесь и далее соблюдайте сигнатуры функций и пользуйтесь объявленными в модуле `preprocessing.py` классами для организации данных. Стоит заметить, что предложения уже токенизированы (даже отделена пунктуация), поэтому предобработку текстов совершать не нужно. Обратите внимание на формат хранения выравниваний: нумерация начинается с 1 (в таком виде и нужно сохранять), первым в паре идёт слово из англоязычного предложения."
   ]
  },
  {
   "cell_type": "markdown",
   "metadata": {
    "id": "LjpP95J1pscU"
   },
   "source": [
    "---\n",
    "**>>Ваша ссылка на посылку: https://contest.yandex.ru/contest/35552/run-report/67649146/<<**\n",
    "\n",
    "---"
   ]
  },
  {
   "cell_type": "code",
   "execution_count": 37,
   "metadata": {
    "id": "3X4IT_0LpscV"
   },
   "outputs": [],
   "source": [
    "import glob\n",
    "from preprocessing import extract_sentences\n",
    "\n",
    "all_sentences = []\n",
    "all_targets = []\n",
    "# (´◕▽◕)⊃━☆\n",
    "filenames = glob.glob('data/*/*/*.wa')\n",
    "for file_name in filenames:\n",
    "    sentences, targets = extract_sentences(file_name)\n",
    "    all_sentences += sentences\n",
    "    all_targets += targets"
   ]
  },
  {
   "cell_type": "markdown",
   "metadata": {
    "id": "CYzabssHpscV"
   },
   "source": [
    "---"
   ]
  },
  {
   "cell_type": "markdown",
   "metadata": {
    "id": "MrHuMbz7pscV"
   },
   "source": [
    "**Задание -1. (0.5 балла)** Реализуйте функции `get_token_to_index` и `tokenize_sents` из модуля `preprocessing.py`, постройте словари token->index для обоих языков и постройте список из `TokenizedSentencePair` по выборке. Реализации функций также отправьте в Яндекс.Контест."
   ]
  },
  {
   "cell_type": "markdown",
   "metadata": {
    "id": "2v7xaKmlpscW"
   },
   "source": [
    "**Замечание:** \n",
    "* **Полностью проходящая все тесты посылка в этом заданиии дает 0.5 балла. За непроходящий хотя бы 1 тест вы получите 0 баллов.**"
   ]
  },
  {
   "cell_type": "markdown",
   "metadata": {
    "id": "Cv-d0JfWpscW"
   },
   "source": [
    "---\n",
    "**>>Ваша ссылка на посылку: https://contest.yandex.ru/contest/35552/run-report/67649336/<<**\n",
    "\n",
    "---"
   ]
  },
  {
   "cell_type": "code",
   "execution_count": 38,
   "metadata": {
    "id": "Ue6PCi7spscX"
   },
   "outputs": [],
   "source": [
    "from preprocessing import get_token_to_index, tokenize_sents\n",
    "\n",
    "t_idx_src, t_idx_tgt = get_token_to_index(all_sentences)\n",
    "tokenized_sentences = tokenize_sents(all_sentences, t_idx_src, t_idx_tgt)"
   ]
  },
  {
   "cell_type": "markdown",
   "metadata": {
    "id": "pfrO6CV4pscX"
   },
   "source": [
    "В качестве бейзлайна для этой задачи мы возьмём способ выравнивания слов по коэффициенту Дайса: слово в исходном языке является переводом слова на целевом языке, если они часто встречаются в одних и тех же предложениях и редко встречаются по отдельности. \n",
    "\n",
    "Математически это записывается по аналогии с мерой Жаккара: пусть $c(x,y)$ — число параллельных предложений, в которых есть и $x$ (на исходном языке), и $y$ (на целевом языке), а $c(x)$ и $c(y)$ — суммарное количество предложений, в которых встречается слово $x$ и $y$ соответственно. Тогда $\\textrm{Dice}(x,y)=\\frac{2 \\cdot c(x,y)}{c(x) + c(y)}$ — характеристика «похожести» слов $x$ и $y$. Она равна 1, если слова встречаются только в контексте друг друга (не бывает предложений только со словом $x$ без $y$ в переводе и наоборот), равна 0, если слова никогда не встречаются в параллельных предложениях и находится между пороговыми значениями в остальных случаях.\n",
    "\n",
    "В файле `models.py` описан абстрактный класс `BaseAligner`, наследником которого должны являться все модели в задании, а также приведён пример реализации `DiceAligner` выравнивания слов описанным выше путём. Ниже вы можете увидеть, как применять эту модель."
   ]
  },
  {
   "cell_type": "code",
   "execution_count": 39,
   "metadata": {
    "id": "87O0WhpdpscY"
   },
   "outputs": [],
   "source": [
    "from models import DiceAligner\n",
    "\n",
    "baseline = DiceAligner(len(t_idx_src), len(t_idx_tgt), threshold=0.01)\n",
    "baseline.fit(tokenized_sentences)"
   ]
  },
  {
   "cell_type": "markdown",
   "metadata": {
    "id": "FrrGQC4ZpscY"
   },
   "source": [
    "---"
   ]
  },
  {
   "cell_type": "markdown",
   "metadata": {
    "id": "-2m-uavbpscZ"
   },
   "source": [
    "Чтобы оценить качество модели выравнивания, пользуясь имеющейся разметкой, существует ряд автоматических метрик. Они подразумевают, что в разметке есть два вида выравниваний — «уверенные» (sure) и «возможные» (possible). Обозначим для конкретного предложения первое множество выравниваний $S$, второе — $P$, а предсказанные выравнивания — $A$; причём, в отличие от разметки в файле, $S\\subseteq P$. Тогда можно предложить три метрики, используя только операции над этими множествами:\n",
    "\n",
    "Precision $=\\frac{|A\\cap P|}{|A|}$. Отражает, какая доля предсказанных нами выравниваний вообще корректна; если мы дадим в качестве ответа все возможные пары слов в предложении, эта метрика сильно просядет.\n",
    "\n",
    "Recall $=\\frac{|A\\cap S|}{|S|}$. Эта метрика показывает, какую долю «уверенных» выравниваний мы обнаружили. Если мы попытаемся сделать слишком консервативную модель, которая выдаёт 0 или 1 предсказание на нетривиальных предложениях, полнота получится крайне низкая. \n",
    "\n",
    "Alignment Error Rate (AER) $=1-\\frac{|A\\cap P|+|A\\cap S|}{|A|+|S|}$. Метрика является комбинацией двух предыдущих и отслеживает общее качество работы системы, штрафуя оба описанных выше вида нежелаемого поведения модели. "
   ]
  },
  {
   "cell_type": "markdown",
   "metadata": {
    "id": "0A6q81G-pscZ"
   },
   "source": [
    "**Задание 0. (0.5 балла)** Реализуйте функции compute_precision, compute_recall, compute_aer из модуля metrics.py. Оцените качество бейзлайнового метода. Обратите внимание, что нужно использовать микро-усреднение во всех функциях: необходимо просуммировать числитель и знаменатель по всем предложениям и только потом делить."
   ]
  },
  {
   "cell_type": "markdown",
   "metadata": {
    "id": "J9mX8opnpscZ"
   },
   "source": [
    "**Замечание:**\n",
    "* **Для возможности получения полного балла** ошибка aer должна быть не выше **0.82.** Если получили значение выше -- скорее всего, у вас где-то ошибка\n",
    "* **Полностью проходящая все тесты посылка в этом заданиии дает 0.5 балла. За непроходящий хотя бы 1 тест вы получите 0 баллов.**"
   ]
  },
  {
   "cell_type": "markdown",
   "metadata": {
    "id": "eXm-HHaPpsca"
   },
   "source": [
    "---\n",
    "**>>Ваша ссылка на посылку: https://contest.yandex.ru/contest/35552/problems/B/<<**"
   ]
  },
  {
   "cell_type": "markdown",
   "metadata": {
    "id": "ooAFXFYepsca"
   },
   "source": [
    "---"
   ]
  },
  {
   "cell_type": "code",
   "execution_count": 40,
   "metadata": {
    "colab": {
     "base_uri": "https://localhost:8080/"
    },
    "id": "8LeL3Sqmpsca",
    "outputId": "5cc8c6f6-6f2d-4f85-a9df-66dba79cdaaa"
   },
   "outputs": [
    {
     "data": {
      "text/plain": [
       "0.8115275584918071"
      ]
     },
     "execution_count": 40,
     "metadata": {},
     "output_type": "execute_result"
    }
   ],
   "source": [
    "from metrics import compute_aer\n",
    "\n",
    "compute_aer(all_targets,baseline.align(tokenized_sentences))"
   ]
  },
  {
   "cell_type": "markdown",
   "metadata": {
    "id": "Cnvzhf7icQtc"
   },
   "source": [
    "Качество бейзлайнового метода оставляет желать лучшего."
   ]
  },
  {
   "cell_type": "markdown",
   "metadata": {
    "id": "Tx1jISPKpscb"
   },
   "source": [
    "---"
   ]
  },
  {
   "cell_type": "markdown",
   "metadata": {
    "id": "0P3o1N58pscb"
   },
   "source": [
    "Теперь мы можем перейти к базовой вероятностной модели для выравнивания слов. Пусть $S=(s_1,\\ldots,s_n)$ исходное предложение, $T=(t_1,\\ldots,t_m)$ — его перевод. В роли латентных переменных будут выступать выравнивания $A=(a_1,\\ldots,a_m)$ каждого слова в целевом предложении, причём $a_i\\in\\{1,\\ldots,n\\}$ (считаем, что каждое слово в $t$ является переводом какого-то слова из $s$). Параметрами модели является матрица условных вероятностей перевода: каждый её элемент $\\theta(y|x)=p(y|x)$ отражает вероятность того, что переводом слова $x$ с исходного языка на целевой является слово $y$ (нормировка, соответственно, совершается по словарю целевого языка). Правдоподобие латентных переменных и предложения на целевом языке в этой модели записывается так:\n",
    "\n",
    "$$\n",
    "p(A,T|S)=\\prod_{i=1}^m p(a_i)p(t_i|a_i,S)=\\prod_{i=1}^m \\frac{1}{n}\\theta(t_i|s_{a_i}).\n",
    "$$ "
   ]
  },
  {
   "cell_type": "markdown",
   "metadata": {
    "id": "Rxg9II64pscb"
   },
   "source": [
    "**Задание 1. (2 балла)** Выведите шаги EM-алгоритма для этой модели, а также получите выражение для подсчёта нижней оценки правдоподобия ($\\mathcal{L}$ в обозначениях лекции и семинара). **Обратите внимание, что на M-шаге нужно найти аналитический максимум по параметрам.**"
   ]
  },
  {
   "cell_type": "markdown",
   "metadata": {
    "id": "c8rgDXu8pscb"
   },
   "source": [
    "**Замечание:**\n",
    "* _Возможные форматы ответа:_ в ячейке ноутбука, отдельно сданная в энитаск pdf c набранными формулами в LaTex, отдельная сданная в энитаск фотография (или скан) рукописного (и разборчивого) вывода.\n",
    "* Наличие только ответа оценивается **в 0 баллов**\n",
    "* Наличие неочевидных переходов без пояснений влияет на **баллы в меньшую сторону**\n",
    "\n",
    "**Подсказка:**\n",
    "* Не забывайте об ограничениях по значению на $\\theta$, это должно быть тем или иным образом отображено в выводе шагов\n",
    "* Помните, что у вас в корпусе несколько предложений (положим их число равным $R$ например)\n",
    "* А также помните, что длины каждой пары (предложение, перевод) различны. Длины предложений $i-$й пары можно обозначать, например, как $n_i$ и $m_i$. "
   ]
  },
  {
   "cell_type": "markdown",
   "metadata": {
    "id": "n99MF4bLpscc"
   },
   "source": [
    " (∩｀-´)⊃━☆ﾟ.*･｡ﾟ\n",
    "\n",
    "**E-шаг:**\n",
    "\n",
    "$q_i(z) = \\mathbb{P}(a_i = z, t_i | s) =$ \\{по формуле условной вероятности} $ = \\frac{\\mathbb{P}(a_i = z, t_i | s)}{\\sum_{j=1}^{n}\\mathbb{P}(a_i = j, t_i, s)} = \\frac{\\theta(t_i |s_{k})}{\\sum_{j=1}^{n} \\theta(t_i | s_j) }$\n",
    "\n",
    "**Подсчет нижней оценки правдподобия:**\n",
    "\n",
    "по теореме, рассмотренной на семинаре, следует, что нижняя оценка правдоподобия имеет вид:\n",
    "\n",
    "$\\mathcal{L}(q, \\theta) = \\sum_{z} q(z)log\\frac{\\mathbb{P}(x, z | \\theta)}{q(z)} => \\mathcal{L} = \\sum_{z=1}^{n} \\sum_{j=1}^{m} q_j(z)log\\frac{\\mathbb{P}(a_j = z, t_j| s)}{q_j(z)} = \\sum_{z=1}^{n} \\sum_{j=1}^{m} q_j(z)log\\frac{\\theta(t_j | s_k)}{n * q_j(z)}$\n",
    "\n",
    "**M-шаг:**\n",
    "\n",
    "Данный шаг заключается в максимизации нижней оценки правдподобия по $\\theta$ и дальнейшем градиентном подъеме.\n",
    "\n",
    "Отбросив инварианты и применив теорему Каруша-Куна-Таккера имеем:\n",
    "\n",
    "$ \\sum_{z=1}^{n} \\sum_{j=1}^{m} q_j(z)log\\theta(t_j | s_k)  - \\sum_{x}\\lambda_x (\\sum_{y} \\theta(y|x) - 1)  ->\\max_{\\theta}$\n",
    "\n",
    "Для нахождения оптимума продифференцируем по $\\theta$ и приравняем полусенное к 0:\n",
    "\n",
    "$\\sum_{z=1}^{n} \\sum_{j=1}^{m}q_j(z)\\frac{\\partial log\\theta(t_j|z)}{\\partial \\theta(x|y)} - \\frac{\\partial \\sum_{x}\\lambda_x (\\sum_{y} \\theta(y|x) - 1)} {\\partial \\theta(x|y)}= \\sum_{z=1}^{n} \\sum_{j=1}^{m}\\frac{q_j(z)}{\\theta(x|y)} * I[t_j = y] I[z = x] - \\lambda_x = 0$\n",
    "\n",
    "$=> \\theta_{opt}(x,y) = \\frac{1}{\\lambda_x} \\sum_{z=1}^{n} \\sum_{j=1}^{m} q_j(z) * I[t_j = y] I[z = x]$\n",
    "\n",
    "Учитывая далее, что $\\sum_{y} \\theta(x, y) = \\frac{1}{\\lambda_x}\\sum_{z=1}^{n} \\sum_{j=1}^{m}q_j(z)*I[z=x] = 1\n",
    "$ (по св-у вероятности),\n",
    "\n",
    "приходим к ответу в аналитическом виде:\n",
    "\n",
    "$$\\theta_{opt}(x,y) = \\frac{\\sum_{z=1}^{n} \\sum_{j=1}^{m} q_j(z) * I[t_j = y] I[z = x]}{\\sum_{z=1}^{n} \\sum_{j=1}^{m} q_j(z) * I[z = x]}$$\n",
    "\n"
   ]
  },
  {
   "cell_type": "markdown",
   "metadata": {
    "id": "92z7Po-zpscc"
   },
   "source": [
    "---"
   ]
  },
  {
   "cell_type": "markdown",
   "metadata": {
    "id": "b0CLbYjjpscc"
   },
   "source": [
    "**Задание 2. (2 балла)** Реализуйте все методы класса `WordAligner` в соответствии с полученными вами формулами. Протестируйте вашу реализацию через Яндекс.Контест, а здесь обучите модель и посчитайте её AER на истинной разметке. Чтобы предсказать выравнивание для пары предложений в этой модели, следует выбирать в соответствие для слова в целевом предложении с индексом $i$ позицию, соответствующую максимуму апостериорного распределения $p(a_i|T,S)$."
   ]
  },
  {
   "cell_type": "markdown",
   "metadata": {
    "id": "s3GVqmdupscd"
   },
   "source": [
    "**Замечание:** \n",
    "* **Полностью проходящая все тесты посылка в этом заданиии дает 1 балл. За хотя бы 1 непройденный тест вы можете получить за это задание максимум 1 балл**\n",
    "* **Для возможности получения полного балла** ошибка aer должна быть не выше **0.6.** Если получили значение выше -- скорее всего, у вас где-то ошибка"
   ]
  },
  {
   "cell_type": "markdown",
   "metadata": {
    "id": "CcCArrCepscd"
   },
   "source": [
    "---\n",
    "**>>Ваша ссылка на посылку:<<**\n",
    "\n",
    "---"
   ]
  },
  {
   "cell_type": "code",
   "execution_count": null,
   "metadata": {
    "id": "kLU5AGcEpscd"
   },
   "outputs": [],
   "source": [
    "from models import WordAligner\n",
    "\n",
    "word_aligner = WordAligner(len(t_idx_src), len(t_idx_tgt), 20)\n",
    "word_aligner.fit(tokenized_sentences);\n",
    "\n",
    "# ༼つ ಠ益ಠ༽つ ─=≡ΣO))"
   ]
  },
  {
   "cell_type": "markdown",
   "metadata": {
    "id": "GrNk4Dmbpsce"
   },
   "source": [
    "Заметим, что таблицу вероятностей перевода можно использовать и саму по себе для построения словарей. Пример работы показан ниже: метод хоть и работает, но мягко говоря, неидально — слишком мало данных."
   ]
  },
  {
   "cell_type": "code",
   "execution_count": null,
   "metadata": {
    "id": "7jxEA23xpsce"
   },
   "outputs": [],
   "source": [
    "idx_token_tgt = {index:token for token, index in t_idx_tgt.items()}"
   ]
  },
  {
   "cell_type": "code",
   "execution_count": null,
   "metadata": {
    "id": "z0ZxkfLOpscf"
   },
   "outputs": [],
   "source": [
    "[idx_token_tgt[i] for i in word_aligner.translation_probs[t_idx_src['Mr']].argsort()[-3:]]"
   ]
  },
  {
   "cell_type": "code",
   "execution_count": null,
   "metadata": {
    "id": "VorOGmwXpscf"
   },
   "outputs": [],
   "source": [
    "[idx_token_tgt[i] for i in word_aligner.translation_probs[t_idx_src['Mrs']].argsort()[-3:]]"
   ]
  },
  {
   "cell_type": "code",
   "execution_count": null,
   "metadata": {
    "id": "QGdGM7pBpscf",
    "scrolled": true
   },
   "outputs": [],
   "source": [
    "[idx_token_tgt[i] for i in word_aligner.translation_probs[t_idx_src['water']].argsort()[-3:]]"
   ]
  },
  {
   "cell_type": "code",
   "execution_count": null,
   "metadata": {
    "id": "G96AE9_Hpscg"
   },
   "outputs": [],
   "source": [
    "[idx_token_tgt[i] for i in word_aligner.translation_probs[t_idx_src['depended']].argsort()[-3:]]"
   ]
  },
  {
   "cell_type": "code",
   "execution_count": null,
   "metadata": {
    "id": "ych6SjqUpscg"
   },
   "outputs": [],
   "source": [
    "[idx_token_tgt[i] for i in word_aligner.translation_probs[t_idx_src['on']].argsort()[-3:]]"
   ]
  },
  {
   "cell_type": "markdown",
   "metadata": {
    "id": "kxcseFC1pscg"
   },
   "source": [
    "---"
   ]
  },
  {
   "cell_type": "markdown",
   "metadata": {
    "id": "tQ3MM9B7pscg"
   },
   "source": [
    "**Задание 3. (0.5 балла)** Мы смогли получить матрицу условных вероятностей перевода исходного языка в целевой. Можно ли, пользуясь этой матрицей и ещё какими-то статистиками по параллельному корпусу, получить вероятности перевода целевого языка в исходный?\n",
    "\n",
    "* **(?)**  Объясните словами принцип работы вашего метода и реализуйте его.\n",
    "* **(?)**  Также приведите ниже пример его работы, показав пару удачных переводов.\n",
    "\n",
    "**Подсказка:** какие формулы из теории вероятностей вы знаете? :)"
   ]
  },
  {
   "cell_type": "markdown",
   "metadata": {
    "id": "oXMD2iXipsch"
   },
   "source": [
    "---"
   ]
  },
  {
   "cell_type": "code",
   "execution_count": null,
   "metadata": {
    "id": "PbsS2BwIpsch"
   },
   "outputs": [],
   "source": [
    "# (>ω<)ノ—==ΞΞ☆*✲ﾟ"
   ]
  },
  {
   "cell_type": "markdown",
   "metadata": {
    "id": "c8agJ6AWpsch"
   },
   "source": [
    "---"
   ]
  },
  {
   "cell_type": "markdown",
   "metadata": {
    "id": "Emu5siVnpsci"
   },
   "source": [
    "**Задание 4. (0.5 балла)** Визуализируйте полученные выравнивания для нескольких предложений в виде heatmap: по одной из осей располагаются токены исходного текста, по другой — токены его перевода, на пересечении позиций $i$ и $j$ — 0 либо 1 в зависимости от того, является ли в обученной модели $a_i$ равным $j$. Проинтерпретируйте их.\n",
    "\n",
    "Постройте аналогичный график, но без дискретизации, а визуализируя напрямую апостериорное распределение. **(?)**  Можете ли вы найти ситуации, в которых модель не уверена, переводом какого слова является слово $i$?"
   ]
  },
  {
   "cell_type": "markdown",
   "metadata": {
    "id": "3tV1a9srpsci"
   },
   "source": [
    "**Подсказка:**\n",
    "* Старайтесь не брать слишком короткие предложения"
   ]
  },
  {
   "cell_type": "markdown",
   "metadata": {
    "id": "1NRtI0oNpsci"
   },
   "source": [
    "---"
   ]
  },
  {
   "cell_type": "code",
   "execution_count": null,
   "metadata": {
    "id": "x4_u5Eq-pscj"
   },
   "outputs": [],
   "source": [
    "# (•̀ 3 •́)━★☆.*･｡ﾟ"
   ]
  },
  {
   "cell_type": "markdown",
   "metadata": {
    "id": "YAwozwa9pscj"
   },
   "source": [
    "## Бонусная часть"
   ]
  },
  {
   "cell_type": "markdown",
   "metadata": {
    "id": "XTIaVjvdpscj"
   },
   "source": [
    "Заметим, что при задании модели мы сделали довольно сильное предположение о том, что вероятности выбора слова для выравнивания никак не зависят от позиции слова в целевом предложении. Можно сделать эти вероятности настраиваемыми параметрами, получив прямоугольную матрицу $\\phi_{m,n}(j|i)=p(a_i=j|m,n)$ для каждой пары длин предложений $m,n$: по-прежнему мы получаем распределение над индексами в исходном предложении. Тогда модель приобретает вид\n",
    "$$\n",
    "p(A,T|S)=\\prod_{i=1}^m p(a_i|m,n)p(t_i| a_i, S)=\\prod_{i=1}^m \\phi_{m,n}(a_i|i)\\theta(t_i|s_{a_i}).\n",
    "$$"
   ]
  },
  {
   "cell_type": "markdown",
   "metadata": {
    "id": "6lVv6nDIpsck"
   },
   "source": [
    "**Задание 5. (бонус, 1.5 балла)** Выведите шаги EM-алгоритма для этой модели, а также получите выражение для подсчёта нижней оценки правдоподобия."
   ]
  },
  {
   "cell_type": "markdown",
   "metadata": {
    "id": "hV4str_Hpsck"
   },
   "source": [
    "**Замечание:**\n",
    "* _Возможные форматы ответа:_ в ячейке ноутбука, отдельно сданная в энитаск pdf c набранными формулами в LaTex, отдельная сданная в энитаск фотография (или скан) рукописного (и разборчивого) вывода.\n",
    "* Наличие только ответа оценивается **в 0 баллов**\n",
    "* Наличие неочевидных переходов без пояснений влияет на **баллы в меньшую сторону**"
   ]
  },
  {
   "cell_type": "markdown",
   "metadata": {
    "id": "cxyjjfUMpsck"
   },
   "source": [
    "---"
   ]
  },
  {
   "cell_type": "markdown",
   "metadata": {
    "id": "6J4DHbGppsck"
   },
   "source": [
    "ଘ(๑˃̵ᴗ˂̵)━☆ﾟ.*･｡ﾟ"
   ]
  },
  {
   "cell_type": "markdown",
   "metadata": {
    "id": "Rb3uOBsIpscl"
   },
   "source": [
    "---"
   ]
  },
  {
   "cell_type": "markdown",
   "metadata": {
    "id": "nZHdjjDWpscl"
   },
   "source": [
    "**Задание 6. (бонус, 1.5 балла)** Реализуйте все методы класса `WordPositionAligner`, протестируйте их корректность через Яндекс.Контест. Обучите модель, оцените её качество на истинной разметке и сравните его с качеством предыдущей более простой модели. Проиллюстрируйте влияние стартовых параметров на результат, проинициализировав эту модель параметрами модели из задания 2 (важно, чтобы суммарное число эпох обучения в обоих сценариях оставалось тем же)."
   ]
  },
  {
   "cell_type": "markdown",
   "metadata": {
    "id": "cmJwe6Eopscl"
   },
   "source": [
    "**Замечание:** \n",
    "* **Полностью проходящая все тесты посылка в этом заданиии дает 0.75 балла. За хотя бы 1 непройденный тест вы можете получить за это задание максимум 0.75 балла**"
   ]
  },
  {
   "cell_type": "markdown",
   "metadata": {
    "id": "SiSSavUupscm"
   },
   "source": [
    "---\n",
    "**>>Ваша ссылка на посылку:<<**\n",
    "\n",
    "---"
   ]
  },
  {
   "cell_type": "code",
   "execution_count": null,
   "metadata": {
    "id": "TwAq3k5epscm"
   },
   "outputs": [],
   "source": [
    "from models import WordPositionAligner\n",
    "# (≧ ◡ ≦)━★☆.*･｡ﾟ"
   ]
  },
  {
   "cell_type": "markdown",
   "metadata": {
    "id": "U52Y4f9Kpscm"
   },
   "source": [
    "---"
   ]
  },
  {
   "cell_type": "markdown",
   "metadata": {
    "id": "z0yQ9Gqqpscm"
   },
   "source": [
    "**Задание 7. (бонус, 1 балл)** В предыдущих пунктах мы никак не заостряли внимание на предобработке текстов, что может негативно влиять на результаты обученной модели. Например, сейчас метод выравнивания учитывает регистр, а слова на чешском языке вдобавок обладают богатой морфологией и большим количеством диакритических знаков. Если сократить количество параметров модели (различных слов), можно ускорить обучение и добиться лучших результатов, потому что статистики по словам будут считаться по большему числу параллельных предложений.\n",
    "\n",
    "Примените к исходным данным [Unicode-нормализацию](https://en.wikipedia.org/wiki/Unicode_equivalence#Normalization), приведите их к нижнему регистру и обучите модель выравнивания заново. Сравните качество и скорость обучения с предыдущими результатами и сделайте выводы. Если вы найдете в данных ещё какие-то проблемы, которые можно исправить более грамотной предобработкой, также продемонстрируйте, как их решение влияет на качество.\n",
    "\n",
    "**Важно:** здесь и далее в процессе обработки данных у вас может получаться, что из тестовых данных будут удалены предложения из-за отсутствия слов в словаре. Если такое всё же произошло, для корректности сравнения считайте AER вашей модели на удалённых предложениях равным 1."
   ]
  },
  {
   "cell_type": "markdown",
   "metadata": {
    "id": "5tRl2Qt_pscn"
   },
   "source": [
    "---"
   ]
  },
  {
   "cell_type": "code",
   "execution_count": null,
   "metadata": {
    "id": "d-1VeGV5pscn"
   },
   "outputs": [],
   "source": [
    "# (੭•̀ω•́)੭̸*✩⁺˚"
   ]
  },
  {
   "cell_type": "markdown",
   "metadata": {
    "id": "GAKaeuhbpsco"
   },
   "source": [
    "---"
   ]
  },
  {
   "cell_type": "markdown",
   "metadata": {
    "id": "lFlKd4Fhpsco"
   },
   "source": [
    "**Задание 8. (бонус, до 3 баллов)** \n",
    "\n",
    "Улучшите качество получившейся системы настолько, насколько сможете. За каждые 5 процентов, на которые AER на тех же данных получается меньше, чем минимум ошибки всех предыдущих моделей, вы получите по 1 бонусному баллу.\n",
    "\n",
    "Ниже приведены несколько идей, которые могут помочь вам повысить \n",
    "\n",
    "* Модифицировать модель: как вы можете понять, недостатком второго реализованного вами подхода является избыточное число параметров из-за необходимости подерживать отдельную матрицу для каждой различной пары длин предложений в корпусе. В статье https://www.aclweb.org/anthology/N13-1073.pdf приведён способ снижения числа параметров, задающих априорное распределение позиций выравнивания, который позволяет в десять раз быстрее обучать модель и получать лучшее качество.\n",
    "* Агрегация по двум направлениям: в статье https://www.aclweb.org/anthology/J03-1002/ утверждается, что асимметричность выравниваний вредит качеству, потому что из-за выбранной модели одному слову в целевом предложении не может соответствовать два слова в исходном предложении. Для решения этой проблемы (и улучшения метрик, разумеется) авторы предлагают несколько алгоритмов, которые можно попробовать применить в этом задании.\n",
    "* Использовать больше обучающих данных. В корпусе, которым мы пользуемся, только пара тысяч предложений, чего может не хватать для по-настоящему хорошей модели выравнивания. Разумеется, неразмеченных параллельных английско-чешских корпусов гораздо больше, поэтому можно воспользоваться ими. Хорошая точка для старта — данные с соревнования по машинному переводу  [воркшопа WMT](http://www.statmt.org/wmt20/translation-task.html).\n",
    "* В языках часто существуют слова наподобие артиклей или предлогов, которым не соответствует ни одно слово в переводе. Все рассмотренные в рамках задания модели это не учитывают, возможно, добавление возможности перевода в «нулевой» токен улучшит качество модели (при тестировании такие выравнивания имеет смысл выбрасывать)"
   ]
  },
  {
   "cell_type": "code",
   "execution_count": null,
   "metadata": {
    "id": "ySMC5pbSpscp"
   },
   "outputs": [],
   "source": [
    "# ┐_(ツ)_┌━☆ﾟ.*･｡ﾟ"
   ]
  },
  {
   "cell_type": "markdown",
   "metadata": {
    "id": "1gL6LQJzpscp"
   },
   "source": [
    "### Картинка для поддержки ваших чувств по этому заданию"
   ]
  },
  {
   "cell_type": "markdown",
   "metadata": {
    "id": "UbGuwlAvpscp"
   },
   "source": [
    "![](https://a.d-cd.net/RAAAAgCnO-A-960.jpg)"
   ]
  }
 ],
 "metadata": {
  "colab": {
   "collapsed_sections": [],
   "name": "homework_practice_09_em.ipynb",
   "provenance": []
  },
  "kernelspec": {
   "display_name": "Python 3",
   "language": "python",
   "name": "python3"
  },
  "language_info": {
   "codemirror_mode": {
    "name": "ipython",
    "version": 3
   },
   "file_extension": ".py",
   "mimetype": "text/x-python",
   "name": "python",
   "nbconvert_exporter": "python",
   "pygments_lexer": "ipython3",
   "version": "3.8.3"
  }
 },
 "nbformat": 4,
 "nbformat_minor": 4
}
